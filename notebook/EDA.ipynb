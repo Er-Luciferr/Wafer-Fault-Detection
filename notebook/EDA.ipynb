{
 "cells": [
  {
   "cell_type": "markdown",
   "metadata": {},
   "source": [
    "#  Wafer fault Prediction"
   ]
  },
  {
   "cell_type": "markdown",
   "metadata": {},
   "source": [
    "**Brief:** In electronics, a **wafer** (also called a slice or substrate) is a thin slice of semiconductor, such as a crystalline silicon (c-Si), used for the fabrication of integrated circuits and, in photovoltaics, to manufacture solar cells. The wafer serves as the substrate(serves as foundation for contruction of other components) for microelectronic devices built in and upon the wafer. \n"
   ]
  },
  {
   "cell_type": "markdown",
   "metadata": {},
   "source": [
    "## Problem Statement\n",
    "\n",
    "**Data:** Wafers data\n",
    "\n",
    "\n",
    "**Problem Statement:** Wafers are predominantly used to manufacture solar cells and are located at remote locations in bulk and they themselves consist of few hundreds of sensors. Wafers are fundamental of photovoltaic power generation, and production thereof requires high technology. Photovoltaic power generation system converts sunlight energy directly to electrical energy.\n",
    "\n",
    "The motto behind figuring out the faulty wafers is to obliterate the need of having manual man-power doing the same. And make no mistake when we're saying this, even when they suspect a certain wafer to be faulty, they had to open the wafer from the scratch and deal with the issue, and by doing so all the wafers in the vicinity had to be stopped disrupting the whole process and stuff anf this is when that certain wafer was indeed faulty, however, when their suspicion came outta be false negative, then we can only imagine the waste of time, man-power and ofcourse, cost incurred.\n",
    "\n",
    "**Solution:** Data fetched by wafers is to be passed through the machine learning pipeline and it is to be determined whether the wafer at hand is faulty or not apparently obliterating the need and thus cost of hiring manual labour."
   ]
  },
  {
   "cell_type": "markdown",
   "metadata": {},
   "source": [
    "## # Import Required Libraries:"
   ]
  },
  {
   "cell_type": "code",
   "execution_count": 1,
   "metadata": {},
   "outputs": [],
   "source": [
    "import pandas as pd \n",
    "import numpy as np \n",
    "import seaborn as sns\n",
    "import matplotlib.pyplot as plt \n",
    "\n",
    "import warnings\n",
    "warnings.filterwarnings('ignore')\n",
    "\n"
   ]
  },
  {
   "cell_type": "code",
   "execution_count": 2,
   "metadata": {},
   "outputs": [
    {
     "name": "stdout",
     "output_type": "stream",
     "text": [
      "Shape of df is: (100, 592)\n"
     ]
    },
    {
     "data": {
      "text/html": [
       "<div>\n",
       "<style scoped>\n",
       "    .dataframe tbody tr th:only-of-type {\n",
       "        vertical-align: middle;\n",
       "    }\n",
       "\n",
       "    .dataframe tbody tr th {\n",
       "        vertical-align: top;\n",
       "    }\n",
       "\n",
       "    .dataframe thead th {\n",
       "        text-align: right;\n",
       "    }\n",
       "</style>\n",
       "<table border=\"1\" class=\"dataframe\">\n",
       "  <thead>\n",
       "    <tr style=\"text-align: right;\">\n",
       "      <th></th>\n",
       "      <th>Unnamed: 0</th>\n",
       "      <th>Sensor-1</th>\n",
       "      <th>Sensor-2</th>\n",
       "      <th>Sensor-3</th>\n",
       "      <th>Sensor-4</th>\n",
       "      <th>Sensor-5</th>\n",
       "      <th>Sensor-6</th>\n",
       "      <th>Sensor-7</th>\n",
       "      <th>Sensor-8</th>\n",
       "      <th>Sensor-9</th>\n",
       "      <th>...</th>\n",
       "      <th>Sensor-582</th>\n",
       "      <th>Sensor-583</th>\n",
       "      <th>Sensor-584</th>\n",
       "      <th>Sensor-585</th>\n",
       "      <th>Sensor-586</th>\n",
       "      <th>Sensor-587</th>\n",
       "      <th>Sensor-588</th>\n",
       "      <th>Sensor-589</th>\n",
       "      <th>Sensor-590</th>\n",
       "      <th>Good/Bad</th>\n",
       "    </tr>\n",
       "  </thead>\n",
       "  <tbody>\n",
       "    <tr>\n",
       "      <th>0</th>\n",
       "      <td>Wafer-801</td>\n",
       "      <td>2968.33</td>\n",
       "      <td>2476.58</td>\n",
       "      <td>2216.7333</td>\n",
       "      <td>1748.0885</td>\n",
       "      <td>1.1127</td>\n",
       "      <td>100.0</td>\n",
       "      <td>97.5822</td>\n",
       "      <td>0.1242</td>\n",
       "      <td>1.5300</td>\n",
       "      <td>...</td>\n",
       "      <td>NaN</td>\n",
       "      <td>0.5004</td>\n",
       "      <td>0.0120</td>\n",
       "      <td>0.0033</td>\n",
       "      <td>2.4069</td>\n",
       "      <td>0.0545</td>\n",
       "      <td>0.0184</td>\n",
       "      <td>0.0055</td>\n",
       "      <td>33.7876</td>\n",
       "      <td>-1</td>\n",
       "    </tr>\n",
       "    <tr>\n",
       "      <th>1</th>\n",
       "      <td>Wafer-802</td>\n",
       "      <td>2961.04</td>\n",
       "      <td>2506.43</td>\n",
       "      <td>2170.0666</td>\n",
       "      <td>1364.5157</td>\n",
       "      <td>1.5447</td>\n",
       "      <td>100.0</td>\n",
       "      <td>96.7700</td>\n",
       "      <td>0.1230</td>\n",
       "      <td>1.3953</td>\n",
       "      <td>...</td>\n",
       "      <td>NaN</td>\n",
       "      <td>0.4994</td>\n",
       "      <td>0.0115</td>\n",
       "      <td>0.0031</td>\n",
       "      <td>2.3020</td>\n",
       "      <td>0.0545</td>\n",
       "      <td>0.0184</td>\n",
       "      <td>0.0055</td>\n",
       "      <td>33.7876</td>\n",
       "      <td>1</td>\n",
       "    </tr>\n",
       "    <tr>\n",
       "      <th>2</th>\n",
       "      <td>Wafer-803</td>\n",
       "      <td>3072.03</td>\n",
       "      <td>2500.68</td>\n",
       "      <td>2205.7445</td>\n",
       "      <td>1363.1048</td>\n",
       "      <td>1.0518</td>\n",
       "      <td>100.0</td>\n",
       "      <td>101.8644</td>\n",
       "      <td>0.1220</td>\n",
       "      <td>1.3896</td>\n",
       "      <td>...</td>\n",
       "      <td>NaN</td>\n",
       "      <td>0.4987</td>\n",
       "      <td>0.0118</td>\n",
       "      <td>0.0036</td>\n",
       "      <td>2.3719</td>\n",
       "      <td>0.0545</td>\n",
       "      <td>0.0184</td>\n",
       "      <td>0.0055</td>\n",
       "      <td>33.7876</td>\n",
       "      <td>-1</td>\n",
       "    </tr>\n",
       "    <tr>\n",
       "      <th>3</th>\n",
       "      <td>Wafer-804</td>\n",
       "      <td>3021.83</td>\n",
       "      <td>2419.83</td>\n",
       "      <td>2205.7445</td>\n",
       "      <td>1363.1048</td>\n",
       "      <td>1.0518</td>\n",
       "      <td>100.0</td>\n",
       "      <td>101.8644</td>\n",
       "      <td>0.1220</td>\n",
       "      <td>1.4108</td>\n",
       "      <td>...</td>\n",
       "      <td>NaN</td>\n",
       "      <td>0.4934</td>\n",
       "      <td>0.0123</td>\n",
       "      <td>0.0040</td>\n",
       "      <td>2.4923</td>\n",
       "      <td>0.0545</td>\n",
       "      <td>0.0184</td>\n",
       "      <td>0.0055</td>\n",
       "      <td>33.7876</td>\n",
       "      <td>-1</td>\n",
       "    </tr>\n",
       "    <tr>\n",
       "      <th>4</th>\n",
       "      <td>Wafer-805</td>\n",
       "      <td>3006.95</td>\n",
       "      <td>2435.34</td>\n",
       "      <td>2189.8111</td>\n",
       "      <td>1084.6502</td>\n",
       "      <td>1.1993</td>\n",
       "      <td>100.0</td>\n",
       "      <td>104.8856</td>\n",
       "      <td>0.1234</td>\n",
       "      <td>1.5094</td>\n",
       "      <td>...</td>\n",
       "      <td>NaN</td>\n",
       "      <td>0.4987</td>\n",
       "      <td>0.0145</td>\n",
       "      <td>0.0041</td>\n",
       "      <td>2.8991</td>\n",
       "      <td>0.0545</td>\n",
       "      <td>0.0184</td>\n",
       "      <td>0.0055</td>\n",
       "      <td>33.7876</td>\n",
       "      <td>-1</td>\n",
       "    </tr>\n",
       "  </tbody>\n",
       "</table>\n",
       "<p>5 rows × 592 columns</p>\n",
       "</div>"
      ],
      "text/plain": [
       "  Unnamed: 0  Sensor-1  Sensor-2   Sensor-3   Sensor-4  Sensor-5  Sensor-6  \\\n",
       "0  Wafer-801   2968.33   2476.58  2216.7333  1748.0885    1.1127     100.0   \n",
       "1  Wafer-802   2961.04   2506.43  2170.0666  1364.5157    1.5447     100.0   \n",
       "2  Wafer-803   3072.03   2500.68  2205.7445  1363.1048    1.0518     100.0   \n",
       "3  Wafer-804   3021.83   2419.83  2205.7445  1363.1048    1.0518     100.0   \n",
       "4  Wafer-805   3006.95   2435.34  2189.8111  1084.6502    1.1993     100.0   \n",
       "\n",
       "   Sensor-7  Sensor-8  Sensor-9  ...  Sensor-582  Sensor-583  Sensor-584  \\\n",
       "0   97.5822    0.1242    1.5300  ...         NaN      0.5004      0.0120   \n",
       "1   96.7700    0.1230    1.3953  ...         NaN      0.4994      0.0115   \n",
       "2  101.8644    0.1220    1.3896  ...         NaN      0.4987      0.0118   \n",
       "3  101.8644    0.1220    1.4108  ...         NaN      0.4934      0.0123   \n",
       "4  104.8856    0.1234    1.5094  ...         NaN      0.4987      0.0145   \n",
       "\n",
       "   Sensor-585  Sensor-586  Sensor-587  Sensor-588  Sensor-589  Sensor-590  \\\n",
       "0      0.0033      2.4069      0.0545      0.0184      0.0055     33.7876   \n",
       "1      0.0031      2.3020      0.0545      0.0184      0.0055     33.7876   \n",
       "2      0.0036      2.3719      0.0545      0.0184      0.0055     33.7876   \n",
       "3      0.0040      2.4923      0.0545      0.0184      0.0055     33.7876   \n",
       "4      0.0041      2.8991      0.0545      0.0184      0.0055     33.7876   \n",
       "\n",
       "   Good/Bad  \n",
       "0        -1  \n",
       "1         1  \n",
       "2        -1  \n",
       "3        -1  \n",
       "4        -1  \n",
       "\n",
       "[5 rows x 592 columns]"
      ]
     },
     "execution_count": 2,
     "metadata": {},
     "output_type": "execute_result"
    }
   ],
   "source": [
    "#Load features of stored dataset as dataframe\n",
    "\n",
    "file_path = r\"R:\\HuB\\ESPERANTO\\Data_Science\\MachineLearningEndToEndProject\\Classification\\Wafer Fault Detection\\notebook\\data\\wafer_23012020_041211.csv\"\n",
    "df=pd.read_csv(file_path)\n",
    "print('Shape of df is:',df.shape)\n",
    "df.head()"
   ]
  },
  {
   "cell_type": "code",
   "execution_count": 3,
   "metadata": {},
   "outputs": [
    {
     "data": {
      "text/plain": [
       "Index(['Unnamed: 0', 'Sensor-1', 'Sensor-2', 'Sensor-3', 'Sensor-4',\n",
       "       'Sensor-5', 'Sensor-6', 'Sensor-7', 'Sensor-8', 'Sensor-9',\n",
       "       ...\n",
       "       'Sensor-582', 'Sensor-583', 'Sensor-584', 'Sensor-585', 'Sensor-586',\n",
       "       'Sensor-587', 'Sensor-588', 'Sensor-589', 'Sensor-590', 'Good/Bad'],\n",
       "      dtype='object', length=592)"
      ]
     },
     "execution_count": 3,
     "metadata": {},
     "output_type": "execute_result"
    }
   ],
   "source": [
    "df.columns\n"
   ]
  },
  {
   "cell_type": "code",
   "execution_count": 4,
   "metadata": {},
   "outputs": [],
   "source": [
    "df.drop(columns=['Unnamed: 0','Good/Bad']).iloc[:100].to_csv('test.csv',index=False)"
   ]
  },
  {
   "cell_type": "code",
   "execution_count": 5,
   "metadata": {},
   "outputs": [],
   "source": [
    "df['wafers']=df['Unnamed: 0']"
   ]
  },
  {
   "cell_type": "code",
   "execution_count": 6,
   "metadata": {},
   "outputs": [
    {
     "data": {
      "text/plain": [
       "Index(['Unnamed: 0', 'Sensor-1', 'Sensor-2', 'Sensor-3', 'Sensor-4',\n",
       "       'Sensor-5', 'Sensor-6', 'Sensor-7', 'Sensor-8', 'Sensor-9',\n",
       "       ...\n",
       "       'Sensor-583', 'Sensor-584', 'Sensor-585', 'Sensor-586', 'Sensor-587',\n",
       "       'Sensor-588', 'Sensor-589', 'Sensor-590', 'Good/Bad', 'wafers'],\n",
       "      dtype='object', length=593)"
      ]
     },
     "execution_count": 6,
     "metadata": {},
     "output_type": "execute_result"
    }
   ],
   "source": [
    "df.columns"
   ]
  },
  {
   "cell_type": "code",
   "execution_count": 7,
   "metadata": {},
   "outputs": [],
   "source": [
    "df.rename(columns={'Unnamed: 0': 'Wafers'},inplace=True )"
   ]
  },
  {
   "cell_type": "code",
   "execution_count": 8,
   "metadata": {},
   "outputs": [],
   "source": [
    "df.drop(columns='wafers',axis=1 , inplace=True)"
   ]
  },
  {
   "cell_type": "code",
   "execution_count": 9,
   "metadata": {},
   "outputs": [
    {
     "data": {
      "text/plain": [
       "Index(['Wafers', 'Sensor-1', 'Sensor-2', 'Sensor-3', 'Sensor-4', 'Sensor-5',\n",
       "       'Sensor-6', 'Sensor-7', 'Sensor-8', 'Sensor-9',\n",
       "       ...\n",
       "       'Sensor-582', 'Sensor-583', 'Sensor-584', 'Sensor-585', 'Sensor-586',\n",
       "       'Sensor-587', 'Sensor-588', 'Sensor-589', 'Sensor-590', 'Good/Bad'],\n",
       "      dtype='object', length=592)"
      ]
     },
     "execution_count": 9,
     "metadata": {},
     "output_type": "execute_result"
    }
   ],
   "source": [
    "df.columns"
   ]
  },
  {
   "cell_type": "code",
   "execution_count": 10,
   "metadata": {},
   "outputs": [],
   "source": [
    "#Train_test_split\n",
    "from sklearn.model_selection import train_test_split \n",
    "train_df , test_df = train_test_split(df,test_size=.2 , random_state=42 )"
   ]
  },
  {
   "cell_type": "code",
   "execution_count": 11,
   "metadata": {},
   "outputs": [
    {
     "data": {
      "text/html": [
       "<div>\n",
       "<style scoped>\n",
       "    .dataframe tbody tr th:only-of-type {\n",
       "        vertical-align: middle;\n",
       "    }\n",
       "\n",
       "    .dataframe tbody tr th {\n",
       "        vertical-align: top;\n",
       "    }\n",
       "\n",
       "    .dataframe thead th {\n",
       "        text-align: right;\n",
       "    }\n",
       "</style>\n",
       "<table border=\"1\" class=\"dataframe\">\n",
       "  <thead>\n",
       "    <tr style=\"text-align: right;\">\n",
       "      <th></th>\n",
       "      <th>Wafers</th>\n",
       "      <th>Sensor-1</th>\n",
       "      <th>Sensor-2</th>\n",
       "      <th>Sensor-3</th>\n",
       "      <th>Sensor-4</th>\n",
       "      <th>Sensor-5</th>\n",
       "      <th>Sensor-6</th>\n",
       "      <th>Sensor-7</th>\n",
       "      <th>Sensor-8</th>\n",
       "      <th>Sensor-9</th>\n",
       "      <th>...</th>\n",
       "      <th>Sensor-582</th>\n",
       "      <th>Sensor-583</th>\n",
       "      <th>Sensor-584</th>\n",
       "      <th>Sensor-585</th>\n",
       "      <th>Sensor-586</th>\n",
       "      <th>Sensor-587</th>\n",
       "      <th>Sensor-588</th>\n",
       "      <th>Sensor-589</th>\n",
       "      <th>Sensor-590</th>\n",
       "      <th>Good/Bad</th>\n",
       "    </tr>\n",
       "  </thead>\n",
       "  <tbody>\n",
       "    <tr>\n",
       "      <th>55</th>\n",
       "      <td>Wafer-856</td>\n",
       "      <td>NaN</td>\n",
       "      <td>2532.45</td>\n",
       "      <td>2191.1333</td>\n",
       "      <td>2197.6570</td>\n",
       "      <td>1.1569</td>\n",
       "      <td>100.0</td>\n",
       "      <td>89.7222</td>\n",
       "      <td>0.1251</td>\n",
       "      <td>1.5762</td>\n",
       "      <td>...</td>\n",
       "      <td>NaN</td>\n",
       "      <td>0.4936</td>\n",
       "      <td>0.0113</td>\n",
       "      <td>0.0033</td>\n",
       "      <td>2.2874</td>\n",
       "      <td>0.0133</td>\n",
       "      <td>0.0139</td>\n",
       "      <td>0.0038</td>\n",
       "      <td>104.3034</td>\n",
       "      <td>-1</td>\n",
       "    </tr>\n",
       "    <tr>\n",
       "      <th>88</th>\n",
       "      <td>Wafer-889</td>\n",
       "      <td>3221.21</td>\n",
       "      <td>2391.20</td>\n",
       "      <td>2189.9667</td>\n",
       "      <td>1046.6212</td>\n",
       "      <td>0.8662</td>\n",
       "      <td>100.0</td>\n",
       "      <td>102.3622</td>\n",
       "      <td>0.1208</td>\n",
       "      <td>1.4756</td>\n",
       "      <td>...</td>\n",
       "      <td>NaN</td>\n",
       "      <td>0.4940</td>\n",
       "      <td>0.0123</td>\n",
       "      <td>0.0033</td>\n",
       "      <td>2.4860</td>\n",
       "      <td>0.0280</td>\n",
       "      <td>0.0078</td>\n",
       "      <td>0.0022</td>\n",
       "      <td>27.7601</td>\n",
       "      <td>-1</td>\n",
       "    </tr>\n",
       "    <tr>\n",
       "      <th>26</th>\n",
       "      <td>Wafer-827</td>\n",
       "      <td>2951.85</td>\n",
       "      <td>2525.00</td>\n",
       "      <td>2189.5777</td>\n",
       "      <td>1320.3197</td>\n",
       "      <td>1.3459</td>\n",
       "      <td>100.0</td>\n",
       "      <td>100.7744</td>\n",
       "      <td>0.1234</td>\n",
       "      <td>1.5590</td>\n",
       "      <td>...</td>\n",
       "      <td>53.8577</td>\n",
       "      <td>0.5025</td>\n",
       "      <td>0.0178</td>\n",
       "      <td>0.0045</td>\n",
       "      <td>3.5361</td>\n",
       "      <td>0.0286</td>\n",
       "      <td>0.0154</td>\n",
       "      <td>0.0056</td>\n",
       "      <td>53.8577</td>\n",
       "      <td>-1</td>\n",
       "    </tr>\n",
       "    <tr>\n",
       "      <th>42</th>\n",
       "      <td>Wafer-843</td>\n",
       "      <td>2982.07</td>\n",
       "      <td>2447.06</td>\n",
       "      <td>2199.6334</td>\n",
       "      <td>1242.8420</td>\n",
       "      <td>1.4083</td>\n",
       "      <td>100.0</td>\n",
       "      <td>99.2178</td>\n",
       "      <td>0.1221</td>\n",
       "      <td>1.4542</td>\n",
       "      <td>...</td>\n",
       "      <td>NaN</td>\n",
       "      <td>0.4993</td>\n",
       "      <td>0.0151</td>\n",
       "      <td>0.0038</td>\n",
       "      <td>3.0214</td>\n",
       "      <td>0.0117</td>\n",
       "      <td>0.0262</td>\n",
       "      <td>0.0089</td>\n",
       "      <td>223.1018</td>\n",
       "      <td>-1</td>\n",
       "    </tr>\n",
       "    <tr>\n",
       "      <th>69</th>\n",
       "      <td>Wafer-870</td>\n",
       "      <td>3058.08</td>\n",
       "      <td>2524.60</td>\n",
       "      <td>2192.3778</td>\n",
       "      <td>1110.5453</td>\n",
       "      <td>0.8147</td>\n",
       "      <td>100.0</td>\n",
       "      <td>99.2922</td>\n",
       "      <td>0.1226</td>\n",
       "      <td>1.4958</td>\n",
       "      <td>...</td>\n",
       "      <td>24.6547</td>\n",
       "      <td>0.4974</td>\n",
       "      <td>0.0171</td>\n",
       "      <td>0.0040</td>\n",
       "      <td>3.4352</td>\n",
       "      <td>0.0218</td>\n",
       "      <td>0.0054</td>\n",
       "      <td>0.0020</td>\n",
       "      <td>24.6547</td>\n",
       "      <td>-1</td>\n",
       "    </tr>\n",
       "  </tbody>\n",
       "</table>\n",
       "<p>5 rows × 592 columns</p>\n",
       "</div>"
      ],
      "text/plain": [
       "       Wafers  Sensor-1  Sensor-2   Sensor-3   Sensor-4  Sensor-5  Sensor-6  \\\n",
       "55  Wafer-856       NaN   2532.45  2191.1333  2197.6570    1.1569     100.0   \n",
       "88  Wafer-889   3221.21   2391.20  2189.9667  1046.6212    0.8662     100.0   \n",
       "26  Wafer-827   2951.85   2525.00  2189.5777  1320.3197    1.3459     100.0   \n",
       "42  Wafer-843   2982.07   2447.06  2199.6334  1242.8420    1.4083     100.0   \n",
       "69  Wafer-870   3058.08   2524.60  2192.3778  1110.5453    0.8147     100.0   \n",
       "\n",
       "    Sensor-7  Sensor-8  Sensor-9  ...  Sensor-582  Sensor-583  Sensor-584  \\\n",
       "55   89.7222    0.1251    1.5762  ...         NaN      0.4936      0.0113   \n",
       "88  102.3622    0.1208    1.4756  ...         NaN      0.4940      0.0123   \n",
       "26  100.7744    0.1234    1.5590  ...     53.8577      0.5025      0.0178   \n",
       "42   99.2178    0.1221    1.4542  ...         NaN      0.4993      0.0151   \n",
       "69   99.2922    0.1226    1.4958  ...     24.6547      0.4974      0.0171   \n",
       "\n",
       "    Sensor-585  Sensor-586  Sensor-587  Sensor-588  Sensor-589  Sensor-590  \\\n",
       "55      0.0033      2.2874      0.0133      0.0139      0.0038    104.3034   \n",
       "88      0.0033      2.4860      0.0280      0.0078      0.0022     27.7601   \n",
       "26      0.0045      3.5361      0.0286      0.0154      0.0056     53.8577   \n",
       "42      0.0038      3.0214      0.0117      0.0262      0.0089    223.1018   \n",
       "69      0.0040      3.4352      0.0218      0.0054      0.0020     24.6547   \n",
       "\n",
       "    Good/Bad  \n",
       "55        -1  \n",
       "88        -1  \n",
       "26        -1  \n",
       "42        -1  \n",
       "69        -1  \n",
       "\n",
       "[5 rows x 592 columns]"
      ]
     },
     "execution_count": 11,
     "metadata": {},
     "output_type": "execute_result"
    }
   ],
   "source": [
    "train_df.head()"
   ]
  },
  {
   "cell_type": "code",
   "execution_count": 12,
   "metadata": {},
   "outputs": [
    {
     "name": "stdout",
     "output_type": "stream",
     "text": [
      "<class 'pandas.core.frame.DataFrame'>\n",
      "Index: 80 entries, 55 to 51\n",
      "Columns: 592 entries, Wafers to Good/Bad\n",
      "dtypes: float64(494), int64(97), object(1)\n",
      "memory usage: 370.6+ KB\n"
     ]
    }
   ],
   "source": [
    "train_df.info()"
   ]
  },
  {
   "cell_type": "code",
   "execution_count": 13,
   "metadata": {},
   "outputs": [
    {
     "data": {
      "text/html": [
       "<div>\n",
       "<style scoped>\n",
       "    .dataframe tbody tr th:only-of-type {\n",
       "        vertical-align: middle;\n",
       "    }\n",
       "\n",
       "    .dataframe tbody tr th {\n",
       "        vertical-align: top;\n",
       "    }\n",
       "\n",
       "    .dataframe thead th {\n",
       "        text-align: right;\n",
       "    }\n",
       "</style>\n",
       "<table border=\"1\" class=\"dataframe\">\n",
       "  <thead>\n",
       "    <tr style=\"text-align: right;\">\n",
       "      <th></th>\n",
       "      <th>Sensor-1</th>\n",
       "      <th>Sensor-2</th>\n",
       "      <th>Sensor-3</th>\n",
       "      <th>Sensor-4</th>\n",
       "      <th>Sensor-5</th>\n",
       "      <th>Sensor-6</th>\n",
       "      <th>Sensor-7</th>\n",
       "      <th>Sensor-8</th>\n",
       "      <th>Sensor-9</th>\n",
       "      <th>Sensor-10</th>\n",
       "      <th>...</th>\n",
       "      <th>Sensor-582</th>\n",
       "      <th>Sensor-583</th>\n",
       "      <th>Sensor-584</th>\n",
       "      <th>Sensor-585</th>\n",
       "      <th>Sensor-586</th>\n",
       "      <th>Sensor-587</th>\n",
       "      <th>Sensor-588</th>\n",
       "      <th>Sensor-589</th>\n",
       "      <th>Sensor-590</th>\n",
       "      <th>Good/Bad</th>\n",
       "    </tr>\n",
       "  </thead>\n",
       "  <tbody>\n",
       "    <tr>\n",
       "      <th>count</th>\n",
       "      <td>79.000000</td>\n",
       "      <td>80.000000</td>\n",
       "      <td>78.000000</td>\n",
       "      <td>78.000000</td>\n",
       "      <td>78.000000</td>\n",
       "      <td>78.0</td>\n",
       "      <td>78.000000</td>\n",
       "      <td>78.000000</td>\n",
       "      <td>80.000000</td>\n",
       "      <td>80.000000</td>\n",
       "      <td>...</td>\n",
       "      <td>27.000000</td>\n",
       "      <td>80.000000</td>\n",
       "      <td>80.000000</td>\n",
       "      <td>80.000000</td>\n",
       "      <td>80.000000</td>\n",
       "      <td>80.000000</td>\n",
       "      <td>80.000000</td>\n",
       "      <td>80.000000</td>\n",
       "      <td>80.000000</td>\n",
       "      <td>80.000000</td>\n",
       "    </tr>\n",
       "    <tr>\n",
       "      <th>mean</th>\n",
       "      <td>3019.048228</td>\n",
       "      <td>2494.058875</td>\n",
       "      <td>2202.758988</td>\n",
       "      <td>1519.467071</td>\n",
       "      <td>1.201382</td>\n",
       "      <td>100.0</td>\n",
       "      <td>96.881160</td>\n",
       "      <td>0.122158</td>\n",
       "      <td>1.460087</td>\n",
       "      <td>0.000946</td>\n",
       "      <td>...</td>\n",
       "      <td>63.785093</td>\n",
       "      <td>0.499493</td>\n",
       "      <td>0.013905</td>\n",
       "      <td>0.003591</td>\n",
       "      <td>2.785103</td>\n",
       "      <td>0.023543</td>\n",
       "      <td>0.014155</td>\n",
       "      <td>0.004439</td>\n",
       "      <td>72.116730</td>\n",
       "      <td>-0.850000</td>\n",
       "    </tr>\n",
       "    <tr>\n",
       "      <th>std</th>\n",
       "      <td>72.665372</td>\n",
       "      <td>68.166898</td>\n",
       "      <td>31.633772</td>\n",
       "      <td>471.962104</td>\n",
       "      <td>0.365870</td>\n",
       "      <td>0.0</td>\n",
       "      <td>5.520108</td>\n",
       "      <td>0.002062</td>\n",
       "      <td>0.072159</td>\n",
       "      <td>0.010865</td>\n",
       "      <td>...</td>\n",
       "      <td>30.722790</td>\n",
       "      <td>0.003683</td>\n",
       "      <td>0.004577</td>\n",
       "      <td>0.000908</td>\n",
       "      <td>0.923064</td>\n",
       "      <td>0.011668</td>\n",
       "      <td>0.007263</td>\n",
       "      <td>0.002324</td>\n",
       "      <td>50.770394</td>\n",
       "      <td>0.530106</td>\n",
       "    </tr>\n",
       "    <tr>\n",
       "      <th>min</th>\n",
       "      <td>2889.670000</td>\n",
       "      <td>2254.990000</td>\n",
       "      <td>2114.666700</td>\n",
       "      <td>978.783200</td>\n",
       "      <td>0.753100</td>\n",
       "      <td>100.0</td>\n",
       "      <td>83.423300</td>\n",
       "      <td>0.116000</td>\n",
       "      <td>1.317900</td>\n",
       "      <td>-0.026500</td>\n",
       "      <td>...</td>\n",
       "      <td>20.309100</td>\n",
       "      <td>0.492500</td>\n",
       "      <td>0.007600</td>\n",
       "      <td>0.002100</td>\n",
       "      <td>1.515200</td>\n",
       "      <td>0.009900</td>\n",
       "      <td>0.004800</td>\n",
       "      <td>0.001700</td>\n",
       "      <td>20.309100</td>\n",
       "      <td>-1.000000</td>\n",
       "    </tr>\n",
       "    <tr>\n",
       "      <th>25%</th>\n",
       "      <td>2975.425000</td>\n",
       "      <td>2452.517500</td>\n",
       "      <td>2189.966700</td>\n",
       "      <td>1111.543600</td>\n",
       "      <td>0.850075</td>\n",
       "      <td>100.0</td>\n",
       "      <td>93.547250</td>\n",
       "      <td>0.120800</td>\n",
       "      <td>1.409950</td>\n",
       "      <td>-0.005750</td>\n",
       "      <td>...</td>\n",
       "      <td>46.961400</td>\n",
       "      <td>0.497175</td>\n",
       "      <td>0.011500</td>\n",
       "      <td>0.003100</td>\n",
       "      <td>2.298350</td>\n",
       "      <td>0.013850</td>\n",
       "      <td>0.009000</td>\n",
       "      <td>0.002650</td>\n",
       "      <td>33.654025</td>\n",
       "      <td>-1.000000</td>\n",
       "    </tr>\n",
       "    <tr>\n",
       "      <th>50%</th>\n",
       "      <td>3004.390000</td>\n",
       "      <td>2502.445000</td>\n",
       "      <td>2200.955600</td>\n",
       "      <td>1308.647900</td>\n",
       "      <td>1.164250</td>\n",
       "      <td>100.0</td>\n",
       "      <td>99.217800</td>\n",
       "      <td>0.122150</td>\n",
       "      <td>1.451900</td>\n",
       "      <td>0.001500</td>\n",
       "      <td>...</td>\n",
       "      <td>54.476100</td>\n",
       "      <td>0.499450</td>\n",
       "      <td>0.012950</td>\n",
       "      <td>0.003400</td>\n",
       "      <td>2.577150</td>\n",
       "      <td>0.021800</td>\n",
       "      <td>0.013100</td>\n",
       "      <td>0.003800</td>\n",
       "      <td>59.082500</td>\n",
       "      <td>-1.000000</td>\n",
       "    </tr>\n",
       "    <tr>\n",
       "      <th>75%</th>\n",
       "      <td>3065.730000</td>\n",
       "      <td>2532.755000</td>\n",
       "      <td>2212.866700</td>\n",
       "      <td>1997.641600</td>\n",
       "      <td>1.383000</td>\n",
       "      <td>100.0</td>\n",
       "      <td>101.133300</td>\n",
       "      <td>0.123375</td>\n",
       "      <td>1.498675</td>\n",
       "      <td>0.009000</td>\n",
       "      <td>...</td>\n",
       "      <td>80.740300</td>\n",
       "      <td>0.501700</td>\n",
       "      <td>0.014950</td>\n",
       "      <td>0.003925</td>\n",
       "      <td>2.992300</td>\n",
       "      <td>0.028100</td>\n",
       "      <td>0.018400</td>\n",
       "      <td>0.005750</td>\n",
       "      <td>93.190025</td>\n",
       "      <td>-1.000000</td>\n",
       "    </tr>\n",
       "    <tr>\n",
       "      <th>max</th>\n",
       "      <td>3221.210000</td>\n",
       "      <td>2664.520000</td>\n",
       "      <td>2315.266700</td>\n",
       "      <td>2363.641200</td>\n",
       "      <td>2.207300</td>\n",
       "      <td>100.0</td>\n",
       "      <td>103.091100</td>\n",
       "      <td>0.126200</td>\n",
       "      <td>1.641100</td>\n",
       "      <td>0.025000</td>\n",
       "      <td>...</td>\n",
       "      <td>151.193000</td>\n",
       "      <td>0.508700</td>\n",
       "      <td>0.043700</td>\n",
       "      <td>0.008900</td>\n",
       "      <td>8.816000</td>\n",
       "      <td>0.054500</td>\n",
       "      <td>0.033400</td>\n",
       "      <td>0.012000</td>\n",
       "      <td>223.101800</td>\n",
       "      <td>1.000000</td>\n",
       "    </tr>\n",
       "  </tbody>\n",
       "</table>\n",
       "<p>8 rows × 591 columns</p>\n",
       "</div>"
      ],
      "text/plain": [
       "          Sensor-1     Sensor-2     Sensor-3     Sensor-4   Sensor-5  \\\n",
       "count    79.000000    80.000000    78.000000    78.000000  78.000000   \n",
       "mean   3019.048228  2494.058875  2202.758988  1519.467071   1.201382   \n",
       "std      72.665372    68.166898    31.633772   471.962104   0.365870   \n",
       "min    2889.670000  2254.990000  2114.666700   978.783200   0.753100   \n",
       "25%    2975.425000  2452.517500  2189.966700  1111.543600   0.850075   \n",
       "50%    3004.390000  2502.445000  2200.955600  1308.647900   1.164250   \n",
       "75%    3065.730000  2532.755000  2212.866700  1997.641600   1.383000   \n",
       "max    3221.210000  2664.520000  2315.266700  2363.641200   2.207300   \n",
       "\n",
       "       Sensor-6    Sensor-7   Sensor-8   Sensor-9  Sensor-10  ...  Sensor-582  \\\n",
       "count      78.0   78.000000  78.000000  80.000000  80.000000  ...   27.000000   \n",
       "mean      100.0   96.881160   0.122158   1.460087   0.000946  ...   63.785093   \n",
       "std         0.0    5.520108   0.002062   0.072159   0.010865  ...   30.722790   \n",
       "min       100.0   83.423300   0.116000   1.317900  -0.026500  ...   20.309100   \n",
       "25%       100.0   93.547250   0.120800   1.409950  -0.005750  ...   46.961400   \n",
       "50%       100.0   99.217800   0.122150   1.451900   0.001500  ...   54.476100   \n",
       "75%       100.0  101.133300   0.123375   1.498675   0.009000  ...   80.740300   \n",
       "max       100.0  103.091100   0.126200   1.641100   0.025000  ...  151.193000   \n",
       "\n",
       "       Sensor-583  Sensor-584  Sensor-585  Sensor-586  Sensor-587  Sensor-588  \\\n",
       "count   80.000000   80.000000   80.000000   80.000000   80.000000   80.000000   \n",
       "mean     0.499493    0.013905    0.003591    2.785103    0.023543    0.014155   \n",
       "std      0.003683    0.004577    0.000908    0.923064    0.011668    0.007263   \n",
       "min      0.492500    0.007600    0.002100    1.515200    0.009900    0.004800   \n",
       "25%      0.497175    0.011500    0.003100    2.298350    0.013850    0.009000   \n",
       "50%      0.499450    0.012950    0.003400    2.577150    0.021800    0.013100   \n",
       "75%      0.501700    0.014950    0.003925    2.992300    0.028100    0.018400   \n",
       "max      0.508700    0.043700    0.008900    8.816000    0.054500    0.033400   \n",
       "\n",
       "       Sensor-589  Sensor-590   Good/Bad  \n",
       "count   80.000000   80.000000  80.000000  \n",
       "mean     0.004439   72.116730  -0.850000  \n",
       "std      0.002324   50.770394   0.530106  \n",
       "min      0.001700   20.309100  -1.000000  \n",
       "25%      0.002650   33.654025  -1.000000  \n",
       "50%      0.003800   59.082500  -1.000000  \n",
       "75%      0.005750   93.190025  -1.000000  \n",
       "max      0.012000  223.101800   1.000000  \n",
       "\n",
       "[8 rows x 591 columns]"
      ]
     },
     "execution_count": 13,
     "metadata": {},
     "output_type": "execute_result"
    }
   ],
   "source": [
    "train_df.describe()"
   ]
  },
  {
   "cell_type": "code",
   "execution_count": 14,
   "metadata": {},
   "outputs": [],
   "source": [
    "#sum=train_df[train_df.isna()].sum()\n",
    "sum=train_df.isna().sum().sum()"
   ]
  },
  {
   "cell_type": "code",
   "execution_count": 15,
   "metadata": {},
   "outputs": [
    {
     "data": {
      "text/plain": [
       "0.038536379018612524"
      ]
     },
     "execution_count": 15,
     "metadata": {},
     "output_type": "execute_result"
    }
   ],
   "source": [
    "## Check missing vals in dependent feature variables\n",
    "\n",
    "train_df.isna().sum().sum() / (train_df.shape[0] * (train_df.shape[1] - 1))"
   ]
  },
  {
   "cell_type": "code",
   "execution_count": 16,
   "metadata": {},
   "outputs": [
    {
     "data": {
      "text/plain": [
       "(80, 592)"
      ]
     },
     "execution_count": 16,
     "metadata": {},
     "output_type": "execute_result"
    }
   ],
   "source": [
    "train_df.shape"
   ]
  },
  {
   "cell_type": "markdown",
   "metadata": {},
   "source": [
    "**=>** Almost 4% out of total cells we're having, are missing.\n",
    "\n",
    "We're gonna try all sort of imputation strategies and would choose the one with that's gonna give us least overall-error-val."
   ]
  },
  {
   "cell_type": "markdown",
   "metadata": {},
   "source": [
    "## # Visualization of Sensors' distribution:"
   ]
  },
  {
   "cell_type": "code",
   "execution_count": 17,
   "metadata": {},
   "outputs": [
    {
     "data": {
      "text/plain": [
       "<enumerate at 0x1d24381d120>"
      ]
     },
     "execution_count": 17,
     "metadata": {},
     "output_type": "execute_result"
    }
   ],
   "source": [
    "enumerate(train_df.columns[1:51])"
   ]
  },
  {
   "cell_type": "code",
   "execution_count": 18,
   "metadata": {},
   "outputs": [
    {
     "name": "stdout",
     "output_type": "stream",
     "text": [
      "{0: 'Sensor-1'}\n",
      "{1: 'Sensor-2'}\n",
      "{2: 'Sensor-3'}\n",
      "{3: 'Sensor-4'}\n",
      "{4: 'Sensor-5'}\n",
      "{5: 'Sensor-6'}\n",
      "{6: 'Sensor-7'}\n",
      "{7: 'Sensor-8'}\n",
      "{8: 'Sensor-9'}\n",
      "{9: 'Sensor-10'}\n",
      "{10: 'Sensor-11'}\n",
      "{11: 'Sensor-12'}\n",
      "{12: 'Sensor-13'}\n",
      "{13: 'Sensor-14'}\n",
      "{14: 'Sensor-15'}\n",
      "{15: 'Sensor-16'}\n",
      "{16: 'Sensor-17'}\n",
      "{17: 'Sensor-18'}\n",
      "{18: 'Sensor-19'}\n",
      "{19: 'Sensor-20'}\n",
      "{20: 'Sensor-21'}\n",
      "{21: 'Sensor-22'}\n",
      "{22: 'Sensor-23'}\n",
      "{23: 'Sensor-24'}\n",
      "{24: 'Sensor-25'}\n",
      "{25: 'Sensor-26'}\n",
      "{26: 'Sensor-27'}\n",
      "{27: 'Sensor-28'}\n",
      "{28: 'Sensor-29'}\n",
      "{29: 'Sensor-30'}\n",
      "{30: 'Sensor-31'}\n",
      "{31: 'Sensor-32'}\n",
      "{32: 'Sensor-33'}\n",
      "{33: 'Sensor-34'}\n",
      "{34: 'Sensor-35'}\n",
      "{35: 'Sensor-36'}\n",
      "{36: 'Sensor-37'}\n",
      "{37: 'Sensor-38'}\n",
      "{38: 'Sensor-39'}\n",
      "{39: 'Sensor-40'}\n",
      "{40: 'Sensor-41'}\n",
      "{41: 'Sensor-42'}\n",
      "{42: 'Sensor-43'}\n",
      "{43: 'Sensor-44'}\n",
      "{44: 'Sensor-45'}\n",
      "{45: 'Sensor-46'}\n",
      "{46: 'Sensor-47'}\n",
      "{47: 'Sensor-48'}\n",
      "{48: 'Sensor-49'}\n",
      "{49: 'Sensor-50'}\n"
     ]
    }
   ],
   "source": [
    "for i,cols in enumerate(train_df.columns[1:51]):\n",
    "    print({i:cols})"
   ]
  },
  {
   "cell_type": "markdown",
   "metadata": {},
   "source": [
    "plt.figure(figsize=(15,100))\n",
    "\n",
    "for i,cols in enumerate(train_df.columns[1:51]):\n",
    "    plt.subplot(60,3,i+1)\n",
    "    sns.distplot(x=train_df[cols] , color='indianred')\n",
    "    plt.xlabel(cols , weight='bold')\n",
    "    plt.tight_layout()"
   ]
  },
  {
   "cell_type": "code",
   "execution_count": 19,
   "metadata": {},
   "outputs": [
    {
     "name": "stdout",
     "output_type": "stream",
     "text": [
      "[584, 225, 478, 479, 451, 54, 435, 66, 62, 457, 4, 395, 429, 428, 222, 295, 189, 123, 15, 159, 233, 391, 560, 122, 79, 107, 487, 266, 445, 167, 456, 362, 238, 478, 116, 310, 336, 543, 507, 64, 120, 105, 69, 162, 399, 105, 581, 517, 174, 64]\n"
     ]
    }
   ],
   "source": [
    "random_50_sensors = []\n",
    "for i in range(50):\n",
    "    if i not in random_50_sensors:\n",
    "        random_50_sensors.append(np.random.randint(1,591))\n",
    "\n",
    "print(random_50_sensors)"
   ]
  },
  {
   "cell_type": "markdown",
   "metadata": {},
   "source": [
    "plt.figure(figsize=(18,105))\n",
    "for i,cols in enumerate(train_df.columns[random_50_sensors]):\n",
    "    plt.subplot(75,4,i+1)\n",
    "    sns.distplot(x=train_df[cols], color='indianred')\n",
    "    plt.xlabel(cols,weight=True)\n",
    "    plt.tight_layout()"
   ]
  },
  {
   "cell_type": "markdown",
   "metadata": {},
   "source": [
    "### Insight:\n",
    "\n",
    "Pretty good amount of them (either first 50 or random 50) either are constant (have 0 standard deviation) or have left skewness and right skewness. It ain't possible to analyze each feature and deal with its outliers individually, thus we oughta depend upon the scaling. \n",
    "\n",
    "For the **features with 0 standard deviation**, we can straight away drop them and for others that do have outliers, we gotta go ahead with the `Robust Scaling`."
   ]
  },
  {
   "cell_type": "markdown",
   "metadata": {},
   "source": [
    "### # Get Columns to Drop:\n",
    "\n",
    "Will drop columns with zero standard deviation as they are not influencing the target variable in any way."
   ]
  },
  {
   "cell_type": "code",
   "execution_count": 20,
   "metadata": {},
   "outputs": [],
   "source": [
    "def get_cols_with_zero_std_dev(df: pd.DataFrame):\n",
    "    cols_to_drop=[]\n",
    "    num_cols = [cols for cols in df.columns if df[cols].dtype !='O']\n",
    "    for cols in num_cols:\n",
    "        if df[cols].std() == 0:\n",
    "            cols_to_drop.append(cols)\n",
    "\n",
    "    return cols_to_drop\n",
    "    \n",
    "def get_reduntant_cols(df : pd.DataFrame , missing_threadhold = .7):\n",
    "    cols_missing_ratios = df.isna().sum().div(df.shape[0])\n",
    "    cols_to_drop = list(cols_missing_ratios[cols_missing_ratios> missing_threadhold].index)\n",
    "    return cols_to_drop"
   ]
  },
  {
   "cell_type": "code",
   "execution_count": 21,
   "metadata": {},
   "outputs": [
    {
     "data": {
      "text/plain": [
       "['Sensor-158', 'Sensor-159', 'Sensor-293', 'Sensor-294']"
      ]
     },
     "execution_count": 21,
     "metadata": {},
     "output_type": "execute_result"
    }
   ],
   "source": [
    "cols_to_drop1 = get_reduntant_cols(train_df )\n",
    "cols_to_drop1"
   ]
  },
  {
   "cell_type": "code",
   "execution_count": 22,
   "metadata": {},
   "outputs": [
    {
     "data": {
      "text/plain": [
       "['Sensor-6',\n",
       " 'Sensor-14',\n",
       " 'Sensor-43',\n",
       " 'Sensor-50',\n",
       " 'Sensor-53',\n",
       " 'Sensor-70',\n",
       " 'Sensor-75',\n",
       " 'Sensor-98',\n",
       " 'Sensor-142',\n",
       " 'Sensor-150',\n",
       " 'Sensor-179',\n",
       " 'Sensor-180',\n",
       " 'Sensor-187',\n",
       " 'Sensor-190',\n",
       " 'Sensor-191',\n",
       " 'Sensor-192',\n",
       " 'Sensor-193',\n",
       " 'Sensor-194',\n",
       " 'Sensor-195',\n",
       " 'Sensor-207',\n",
       " 'Sensor-210',\n",
       " 'Sensor-227',\n",
       " 'Sensor-230',\n",
       " 'Sensor-231',\n",
       " 'Sensor-232',\n",
       " 'Sensor-233',\n",
       " 'Sensor-234',\n",
       " 'Sensor-235',\n",
       " 'Sensor-236',\n",
       " 'Sensor-237',\n",
       " 'Sensor-238',\n",
       " 'Sensor-241',\n",
       " 'Sensor-242',\n",
       " 'Sensor-243',\n",
       " 'Sensor-244',\n",
       " 'Sensor-257',\n",
       " 'Sensor-258',\n",
       " 'Sensor-259',\n",
       " 'Sensor-260',\n",
       " 'Sensor-261',\n",
       " 'Sensor-262',\n",
       " 'Sensor-263',\n",
       " 'Sensor-264',\n",
       " 'Sensor-265',\n",
       " 'Sensor-266',\n",
       " 'Sensor-267',\n",
       " 'Sensor-277',\n",
       " 'Sensor-285',\n",
       " 'Sensor-314',\n",
       " 'Sensor-315',\n",
       " 'Sensor-316',\n",
       " 'Sensor-323',\n",
       " 'Sensor-326',\n",
       " 'Sensor-327',\n",
       " 'Sensor-328',\n",
       " 'Sensor-329',\n",
       " 'Sensor-330',\n",
       " 'Sensor-331',\n",
       " 'Sensor-343',\n",
       " 'Sensor-348',\n",
       " 'Sensor-365',\n",
       " 'Sensor-370',\n",
       " 'Sensor-371',\n",
       " 'Sensor-372',\n",
       " 'Sensor-373',\n",
       " 'Sensor-374',\n",
       " 'Sensor-375',\n",
       " 'Sensor-376',\n",
       " 'Sensor-379',\n",
       " 'Sensor-380',\n",
       " 'Sensor-381',\n",
       " 'Sensor-382',\n",
       " 'Sensor-395',\n",
       " 'Sensor-396',\n",
       " 'Sensor-397',\n",
       " 'Sensor-398',\n",
       " 'Sensor-399',\n",
       " 'Sensor-400',\n",
       " 'Sensor-401',\n",
       " 'Sensor-402',\n",
       " 'Sensor-403',\n",
       " 'Sensor-404',\n",
       " 'Sensor-405',\n",
       " 'Sensor-415',\n",
       " 'Sensor-423',\n",
       " 'Sensor-450',\n",
       " 'Sensor-451',\n",
       " 'Sensor-452',\n",
       " 'Sensor-459',\n",
       " 'Sensor-462',\n",
       " 'Sensor-463',\n",
       " 'Sensor-464',\n",
       " 'Sensor-465',\n",
       " 'Sensor-466',\n",
       " 'Sensor-467',\n",
       " 'Sensor-479',\n",
       " 'Sensor-482',\n",
       " 'Sensor-499',\n",
       " 'Sensor-502',\n",
       " 'Sensor-503',\n",
       " 'Sensor-504',\n",
       " 'Sensor-505',\n",
       " 'Sensor-506',\n",
       " 'Sensor-507',\n",
       " 'Sensor-508',\n",
       " 'Sensor-509',\n",
       " 'Sensor-510',\n",
       " 'Sensor-513',\n",
       " 'Sensor-514',\n",
       " 'Sensor-515',\n",
       " 'Sensor-516',\n",
       " 'Sensor-529',\n",
       " 'Sensor-530',\n",
       " 'Sensor-531',\n",
       " 'Sensor-532',\n",
       " 'Sensor-533',\n",
       " 'Sensor-534',\n",
       " 'Sensor-535',\n",
       " 'Sensor-536',\n",
       " 'Sensor-537',\n",
       " 'Sensor-538',\n",
       " 'Sensor-539']"
      ]
     },
     "execution_count": 22,
     "metadata": {},
     "output_type": "execute_result"
    }
   ],
   "source": [
    "\n",
    "cols_to_drop2 = get_cols_with_zero_std_dev(train_df)\n",
    "\n",
    "cols_to_drop2"
   ]
  },
  {
   "cell_type": "code",
   "execution_count": 23,
   "metadata": {},
   "outputs": [],
   "source": [
    "## Cols to drop\n",
    "\n",
    "cols_to_drop = cols_to_drop1 + cols_to_drop2"
   ]
  },
  {
   "cell_type": "markdown",
   "metadata": {},
   "source": [
    "**=>** Features that are not gonna contribute to ML algorithm in anyway, whatsoever."
   ]
  },
  {
   "cell_type": "markdown",
   "metadata": {},
   "source": [
    "## # Separate Features and Labels out:"
   ]
  },
  {
   "cell_type": "code",
   "execution_count": 24,
   "metadata": {},
   "outputs": [],
   "source": [
    "X, y  = train_df.drop(cols_to_drop , axis =1) , train_df[['Good/Bad']]"
   ]
  },
  {
   "cell_type": "code",
   "execution_count": 25,
   "metadata": {},
   "outputs": [
    {
     "data": {
      "text/plain": [
       "466"
      ]
     },
     "execution_count": 25,
     "metadata": {},
     "output_type": "execute_result"
    }
   ],
   "source": [
    "X.columns.value_counts().sum()"
   ]
  },
  {
   "cell_type": "code",
   "execution_count": 26,
   "metadata": {},
   "outputs": [
    {
     "data": {
      "text/html": [
       "<div>\n",
       "<style scoped>\n",
       "    .dataframe tbody tr th:only-of-type {\n",
       "        vertical-align: middle;\n",
       "    }\n",
       "\n",
       "    .dataframe tbody tr th {\n",
       "        vertical-align: top;\n",
       "    }\n",
       "\n",
       "    .dataframe thead th {\n",
       "        text-align: right;\n",
       "    }\n",
       "</style>\n",
       "<table border=\"1\" class=\"dataframe\">\n",
       "  <thead>\n",
       "    <tr style=\"text-align: right;\">\n",
       "      <th></th>\n",
       "      <th>Wafers</th>\n",
       "      <th>Sensor-1</th>\n",
       "      <th>Sensor-2</th>\n",
       "      <th>Sensor-3</th>\n",
       "      <th>Sensor-4</th>\n",
       "      <th>Sensor-5</th>\n",
       "      <th>Sensor-7</th>\n",
       "      <th>Sensor-8</th>\n",
       "      <th>Sensor-9</th>\n",
       "      <th>Sensor-10</th>\n",
       "      <th>...</th>\n",
       "      <th>Sensor-582</th>\n",
       "      <th>Sensor-583</th>\n",
       "      <th>Sensor-584</th>\n",
       "      <th>Sensor-585</th>\n",
       "      <th>Sensor-586</th>\n",
       "      <th>Sensor-587</th>\n",
       "      <th>Sensor-588</th>\n",
       "      <th>Sensor-589</th>\n",
       "      <th>Sensor-590</th>\n",
       "      <th>Good/Bad</th>\n",
       "    </tr>\n",
       "  </thead>\n",
       "  <tbody>\n",
       "    <tr>\n",
       "      <th>55</th>\n",
       "      <td>Wafer-856</td>\n",
       "      <td>NaN</td>\n",
       "      <td>2532.45</td>\n",
       "      <td>2191.1333</td>\n",
       "      <td>2197.6570</td>\n",
       "      <td>1.1569</td>\n",
       "      <td>89.7222</td>\n",
       "      <td>0.1251</td>\n",
       "      <td>1.5762</td>\n",
       "      <td>0.0028</td>\n",
       "      <td>...</td>\n",
       "      <td>NaN</td>\n",
       "      <td>0.4936</td>\n",
       "      <td>0.0113</td>\n",
       "      <td>0.0033</td>\n",
       "      <td>2.2874</td>\n",
       "      <td>0.0133</td>\n",
       "      <td>0.0139</td>\n",
       "      <td>0.0038</td>\n",
       "      <td>104.3034</td>\n",
       "      <td>-1</td>\n",
       "    </tr>\n",
       "    <tr>\n",
       "      <th>88</th>\n",
       "      <td>Wafer-889</td>\n",
       "      <td>3221.21</td>\n",
       "      <td>2391.20</td>\n",
       "      <td>2189.9667</td>\n",
       "      <td>1046.6212</td>\n",
       "      <td>0.8662</td>\n",
       "      <td>102.3622</td>\n",
       "      <td>0.1208</td>\n",
       "      <td>1.4756</td>\n",
       "      <td>-0.0025</td>\n",
       "      <td>...</td>\n",
       "      <td>NaN</td>\n",
       "      <td>0.4940</td>\n",
       "      <td>0.0123</td>\n",
       "      <td>0.0033</td>\n",
       "      <td>2.4860</td>\n",
       "      <td>0.0280</td>\n",
       "      <td>0.0078</td>\n",
       "      <td>0.0022</td>\n",
       "      <td>27.7601</td>\n",
       "      <td>-1</td>\n",
       "    </tr>\n",
       "    <tr>\n",
       "      <th>26</th>\n",
       "      <td>Wafer-827</td>\n",
       "      <td>2951.85</td>\n",
       "      <td>2525.00</td>\n",
       "      <td>2189.5777</td>\n",
       "      <td>1320.3197</td>\n",
       "      <td>1.3459</td>\n",
       "      <td>100.7744</td>\n",
       "      <td>0.1234</td>\n",
       "      <td>1.5590</td>\n",
       "      <td>-0.0032</td>\n",
       "      <td>...</td>\n",
       "      <td>53.8577</td>\n",
       "      <td>0.5025</td>\n",
       "      <td>0.0178</td>\n",
       "      <td>0.0045</td>\n",
       "      <td>3.5361</td>\n",
       "      <td>0.0286</td>\n",
       "      <td>0.0154</td>\n",
       "      <td>0.0056</td>\n",
       "      <td>53.8577</td>\n",
       "      <td>-1</td>\n",
       "    </tr>\n",
       "    <tr>\n",
       "      <th>42</th>\n",
       "      <td>Wafer-843</td>\n",
       "      <td>2982.07</td>\n",
       "      <td>2447.06</td>\n",
       "      <td>2199.6334</td>\n",
       "      <td>1242.8420</td>\n",
       "      <td>1.4083</td>\n",
       "      <td>99.2178</td>\n",
       "      <td>0.1221</td>\n",
       "      <td>1.4542</td>\n",
       "      <td>0.0142</td>\n",
       "      <td>...</td>\n",
       "      <td>NaN</td>\n",
       "      <td>0.4993</td>\n",
       "      <td>0.0151</td>\n",
       "      <td>0.0038</td>\n",
       "      <td>3.0214</td>\n",
       "      <td>0.0117</td>\n",
       "      <td>0.0262</td>\n",
       "      <td>0.0089</td>\n",
       "      <td>223.1018</td>\n",
       "      <td>-1</td>\n",
       "    </tr>\n",
       "    <tr>\n",
       "      <th>69</th>\n",
       "      <td>Wafer-870</td>\n",
       "      <td>3058.08</td>\n",
       "      <td>2524.60</td>\n",
       "      <td>2192.3778</td>\n",
       "      <td>1110.5453</td>\n",
       "      <td>0.8147</td>\n",
       "      <td>99.2922</td>\n",
       "      <td>0.1226</td>\n",
       "      <td>1.4958</td>\n",
       "      <td>0.0004</td>\n",
       "      <td>...</td>\n",
       "      <td>24.6547</td>\n",
       "      <td>0.4974</td>\n",
       "      <td>0.0171</td>\n",
       "      <td>0.0040</td>\n",
       "      <td>3.4352</td>\n",
       "      <td>0.0218</td>\n",
       "      <td>0.0054</td>\n",
       "      <td>0.0020</td>\n",
       "      <td>24.6547</td>\n",
       "      <td>-1</td>\n",
       "    </tr>\n",
       "  </tbody>\n",
       "</table>\n",
       "<p>5 rows × 466 columns</p>\n",
       "</div>"
      ],
      "text/plain": [
       "       Wafers  Sensor-1  Sensor-2   Sensor-3   Sensor-4  Sensor-5  Sensor-7  \\\n",
       "55  Wafer-856       NaN   2532.45  2191.1333  2197.6570    1.1569   89.7222   \n",
       "88  Wafer-889   3221.21   2391.20  2189.9667  1046.6212    0.8662  102.3622   \n",
       "26  Wafer-827   2951.85   2525.00  2189.5777  1320.3197    1.3459  100.7744   \n",
       "42  Wafer-843   2982.07   2447.06  2199.6334  1242.8420    1.4083   99.2178   \n",
       "69  Wafer-870   3058.08   2524.60  2192.3778  1110.5453    0.8147   99.2922   \n",
       "\n",
       "    Sensor-8  Sensor-9  Sensor-10  ...  Sensor-582  Sensor-583  Sensor-584  \\\n",
       "55    0.1251    1.5762     0.0028  ...         NaN      0.4936      0.0113   \n",
       "88    0.1208    1.4756    -0.0025  ...         NaN      0.4940      0.0123   \n",
       "26    0.1234    1.5590    -0.0032  ...     53.8577      0.5025      0.0178   \n",
       "42    0.1221    1.4542     0.0142  ...         NaN      0.4993      0.0151   \n",
       "69    0.1226    1.4958     0.0004  ...     24.6547      0.4974      0.0171   \n",
       "\n",
       "    Sensor-585  Sensor-586  Sensor-587  Sensor-588  Sensor-589  Sensor-590  \\\n",
       "55      0.0033      2.2874      0.0133      0.0139      0.0038    104.3034   \n",
       "88      0.0033      2.4860      0.0280      0.0078      0.0022     27.7601   \n",
       "26      0.0045      3.5361      0.0286      0.0154      0.0056     53.8577   \n",
       "42      0.0038      3.0214      0.0117      0.0262      0.0089    223.1018   \n",
       "69      0.0040      3.4352      0.0218      0.0054      0.0020     24.6547   \n",
       "\n",
       "    Good/Bad  \n",
       "55        -1  \n",
       "88        -1  \n",
       "26        -1  \n",
       "42        -1  \n",
       "69        -1  \n",
       "\n",
       "[5 rows x 466 columns]"
      ]
     },
     "execution_count": 26,
     "metadata": {},
     "output_type": "execute_result"
    }
   ],
   "source": [
    "X.head()"
   ]
  },
  {
   "cell_type": "code",
   "execution_count": 27,
   "metadata": {},
   "outputs": [
    {
     "data": {
      "text/plain": [
       "126"
      ]
     },
     "execution_count": 27,
     "metadata": {},
     "output_type": "execute_result"
    }
   ],
   "source": [
    "df.shape[1] - X.columns.value_counts().sum()"
   ]
  },
  {
   "cell_type": "code",
   "execution_count": 28,
   "metadata": {},
   "outputs": [
    {
     "data": {
      "text/plain": [
       "126"
      ]
     },
     "execution_count": 28,
     "metadata": {},
     "output_type": "execute_result"
    }
   ],
   "source": [
    "len(cols_to_drop)"
   ]
  },
  {
   "cell_type": "code",
   "execution_count": 29,
   "metadata": {},
   "outputs": [
    {
     "data": {
      "text/plain": [
       "list"
      ]
     },
     "execution_count": 29,
     "metadata": {},
     "output_type": "execute_result"
    }
   ],
   "source": [
    "type(cols_to_drop)"
   ]
  },
  {
   "cell_type": "code",
   "execution_count": 30,
   "metadata": {},
   "outputs": [
    {
     "data": {
      "text/plain": [
       "Index(['Wafers', 'Sensor-1', 'Sensor-2', 'Sensor-3', 'Sensor-4', 'Sensor-5',\n",
       "       'Sensor-6', 'Sensor-7', 'Sensor-8', 'Sensor-9',\n",
       "       ...\n",
       "       'Sensor-582', 'Sensor-583', 'Sensor-584', 'Sensor-585', 'Sensor-586',\n",
       "       'Sensor-587', 'Sensor-588', 'Sensor-589', 'Sensor-590', 'Good/Bad'],\n",
       "      dtype='object', length=592)"
      ]
     },
     "execution_count": 30,
     "metadata": {},
     "output_type": "execute_result"
    }
   ],
   "source": [
    "train_df.columns"
   ]
  },
  {
   "cell_type": "code",
   "execution_count": 31,
   "metadata": {},
   "outputs": [
    {
     "name": "stdout",
     "output_type": "stream",
     "text": [
      "Shape of the features now:  (80, 466)\n"
     ]
    },
    {
     "data": {
      "text/html": [
       "<div>\n",
       "<style scoped>\n",
       "    .dataframe tbody tr th:only-of-type {\n",
       "        vertical-align: middle;\n",
       "    }\n",
       "\n",
       "    .dataframe tbody tr th {\n",
       "        vertical-align: top;\n",
       "    }\n",
       "\n",
       "    .dataframe thead th {\n",
       "        text-align: right;\n",
       "    }\n",
       "</style>\n",
       "<table border=\"1\" class=\"dataframe\">\n",
       "  <thead>\n",
       "    <tr style=\"text-align: right;\">\n",
       "      <th></th>\n",
       "      <th>Wafers</th>\n",
       "      <th>Sensor-1</th>\n",
       "      <th>Sensor-2</th>\n",
       "      <th>Sensor-3</th>\n",
       "      <th>Sensor-4</th>\n",
       "      <th>Sensor-5</th>\n",
       "      <th>Sensor-7</th>\n",
       "      <th>Sensor-8</th>\n",
       "      <th>Sensor-9</th>\n",
       "      <th>Sensor-10</th>\n",
       "      <th>...</th>\n",
       "      <th>Sensor-582</th>\n",
       "      <th>Sensor-583</th>\n",
       "      <th>Sensor-584</th>\n",
       "      <th>Sensor-585</th>\n",
       "      <th>Sensor-586</th>\n",
       "      <th>Sensor-587</th>\n",
       "      <th>Sensor-588</th>\n",
       "      <th>Sensor-589</th>\n",
       "      <th>Sensor-590</th>\n",
       "      <th>Good/Bad</th>\n",
       "    </tr>\n",
       "  </thead>\n",
       "  <tbody>\n",
       "    <tr>\n",
       "      <th>55</th>\n",
       "      <td>Wafer-856</td>\n",
       "      <td>NaN</td>\n",
       "      <td>2532.45</td>\n",
       "      <td>2191.1333</td>\n",
       "      <td>2197.6570</td>\n",
       "      <td>1.1569</td>\n",
       "      <td>89.7222</td>\n",
       "      <td>0.1251</td>\n",
       "      <td>1.5762</td>\n",
       "      <td>0.0028</td>\n",
       "      <td>...</td>\n",
       "      <td>NaN</td>\n",
       "      <td>0.4936</td>\n",
       "      <td>0.0113</td>\n",
       "      <td>0.0033</td>\n",
       "      <td>2.2874</td>\n",
       "      <td>0.0133</td>\n",
       "      <td>0.0139</td>\n",
       "      <td>0.0038</td>\n",
       "      <td>104.3034</td>\n",
       "      <td>-1</td>\n",
       "    </tr>\n",
       "    <tr>\n",
       "      <th>88</th>\n",
       "      <td>Wafer-889</td>\n",
       "      <td>3221.21</td>\n",
       "      <td>2391.20</td>\n",
       "      <td>2189.9667</td>\n",
       "      <td>1046.6212</td>\n",
       "      <td>0.8662</td>\n",
       "      <td>102.3622</td>\n",
       "      <td>0.1208</td>\n",
       "      <td>1.4756</td>\n",
       "      <td>-0.0025</td>\n",
       "      <td>...</td>\n",
       "      <td>NaN</td>\n",
       "      <td>0.4940</td>\n",
       "      <td>0.0123</td>\n",
       "      <td>0.0033</td>\n",
       "      <td>2.4860</td>\n",
       "      <td>0.0280</td>\n",
       "      <td>0.0078</td>\n",
       "      <td>0.0022</td>\n",
       "      <td>27.7601</td>\n",
       "      <td>-1</td>\n",
       "    </tr>\n",
       "    <tr>\n",
       "      <th>26</th>\n",
       "      <td>Wafer-827</td>\n",
       "      <td>2951.85</td>\n",
       "      <td>2525.00</td>\n",
       "      <td>2189.5777</td>\n",
       "      <td>1320.3197</td>\n",
       "      <td>1.3459</td>\n",
       "      <td>100.7744</td>\n",
       "      <td>0.1234</td>\n",
       "      <td>1.5590</td>\n",
       "      <td>-0.0032</td>\n",
       "      <td>...</td>\n",
       "      <td>53.8577</td>\n",
       "      <td>0.5025</td>\n",
       "      <td>0.0178</td>\n",
       "      <td>0.0045</td>\n",
       "      <td>3.5361</td>\n",
       "      <td>0.0286</td>\n",
       "      <td>0.0154</td>\n",
       "      <td>0.0056</td>\n",
       "      <td>53.8577</td>\n",
       "      <td>-1</td>\n",
       "    </tr>\n",
       "    <tr>\n",
       "      <th>42</th>\n",
       "      <td>Wafer-843</td>\n",
       "      <td>2982.07</td>\n",
       "      <td>2447.06</td>\n",
       "      <td>2199.6334</td>\n",
       "      <td>1242.8420</td>\n",
       "      <td>1.4083</td>\n",
       "      <td>99.2178</td>\n",
       "      <td>0.1221</td>\n",
       "      <td>1.4542</td>\n",
       "      <td>0.0142</td>\n",
       "      <td>...</td>\n",
       "      <td>NaN</td>\n",
       "      <td>0.4993</td>\n",
       "      <td>0.0151</td>\n",
       "      <td>0.0038</td>\n",
       "      <td>3.0214</td>\n",
       "      <td>0.0117</td>\n",
       "      <td>0.0262</td>\n",
       "      <td>0.0089</td>\n",
       "      <td>223.1018</td>\n",
       "      <td>-1</td>\n",
       "    </tr>\n",
       "    <tr>\n",
       "      <th>69</th>\n",
       "      <td>Wafer-870</td>\n",
       "      <td>3058.08</td>\n",
       "      <td>2524.60</td>\n",
       "      <td>2192.3778</td>\n",
       "      <td>1110.5453</td>\n",
       "      <td>0.8147</td>\n",
       "      <td>99.2922</td>\n",
       "      <td>0.1226</td>\n",
       "      <td>1.4958</td>\n",
       "      <td>0.0004</td>\n",
       "      <td>...</td>\n",
       "      <td>24.6547</td>\n",
       "      <td>0.4974</td>\n",
       "      <td>0.0171</td>\n",
       "      <td>0.0040</td>\n",
       "      <td>3.4352</td>\n",
       "      <td>0.0218</td>\n",
       "      <td>0.0054</td>\n",
       "      <td>0.0020</td>\n",
       "      <td>24.6547</td>\n",
       "      <td>-1</td>\n",
       "    </tr>\n",
       "  </tbody>\n",
       "</table>\n",
       "<p>5 rows × 466 columns</p>\n",
       "</div>"
      ],
      "text/plain": [
       "       Wafers  Sensor-1  Sensor-2   Sensor-3   Sensor-4  Sensor-5  Sensor-7  \\\n",
       "55  Wafer-856       NaN   2532.45  2191.1333  2197.6570    1.1569   89.7222   \n",
       "88  Wafer-889   3221.21   2391.20  2189.9667  1046.6212    0.8662  102.3622   \n",
       "26  Wafer-827   2951.85   2525.00  2189.5777  1320.3197    1.3459  100.7744   \n",
       "42  Wafer-843   2982.07   2447.06  2199.6334  1242.8420    1.4083   99.2178   \n",
       "69  Wafer-870   3058.08   2524.60  2192.3778  1110.5453    0.8147   99.2922   \n",
       "\n",
       "    Sensor-8  Sensor-9  Sensor-10  ...  Sensor-582  Sensor-583  Sensor-584  \\\n",
       "55    0.1251    1.5762     0.0028  ...         NaN      0.4936      0.0113   \n",
       "88    0.1208    1.4756    -0.0025  ...         NaN      0.4940      0.0123   \n",
       "26    0.1234    1.5590    -0.0032  ...     53.8577      0.5025      0.0178   \n",
       "42    0.1221    1.4542     0.0142  ...         NaN      0.4993      0.0151   \n",
       "69    0.1226    1.4958     0.0004  ...     24.6547      0.4974      0.0171   \n",
       "\n",
       "    Sensor-585  Sensor-586  Sensor-587  Sensor-588  Sensor-589  Sensor-590  \\\n",
       "55      0.0033      2.2874      0.0133      0.0139      0.0038    104.3034   \n",
       "88      0.0033      2.4860      0.0280      0.0078      0.0022     27.7601   \n",
       "26      0.0045      3.5361      0.0286      0.0154      0.0056     53.8577   \n",
       "42      0.0038      3.0214      0.0117      0.0262      0.0089    223.1018   \n",
       "69      0.0040      3.4352      0.0218      0.0054      0.0020     24.6547   \n",
       "\n",
       "    Good/Bad  \n",
       "55        -1  \n",
       "88        -1  \n",
       "26        -1  \n",
       "42        -1  \n",
       "69        -1  \n",
       "\n",
       "[5 rows x 466 columns]"
      ]
     },
     "execution_count": 31,
     "metadata": {},
     "output_type": "execute_result"
    }
   ],
   "source": [
    "## Dependent feature variables\n",
    "\n",
    "print(\"Shape of the features now: \", X.shape)\n",
    "X.head()"
   ]
  },
  {
   "cell_type": "markdown",
   "metadata": {},
   "source": [
    "**=>** Now, we have 462 contributing features. "
   ]
  },
  {
   "cell_type": "code",
   "execution_count": 32,
   "metadata": {},
   "outputs": [
    {
     "name": "stdout",
     "output_type": "stream",
     "text": [
      "Shape of the labels:  (80, 1)\n"
     ]
    },
    {
     "data": {
      "text/html": [
       "<div>\n",
       "<style scoped>\n",
       "    .dataframe tbody tr th:only-of-type {\n",
       "        vertical-align: middle;\n",
       "    }\n",
       "\n",
       "    .dataframe tbody tr th {\n",
       "        vertical-align: top;\n",
       "    }\n",
       "\n",
       "    .dataframe thead th {\n",
       "        text-align: right;\n",
       "    }\n",
       "</style>\n",
       "<table border=\"1\" class=\"dataframe\">\n",
       "  <thead>\n",
       "    <tr style=\"text-align: right;\">\n",
       "      <th></th>\n",
       "      <th>Good/Bad</th>\n",
       "    </tr>\n",
       "  </thead>\n",
       "  <tbody>\n",
       "    <tr>\n",
       "      <th>55</th>\n",
       "      <td>-1</td>\n",
       "    </tr>\n",
       "    <tr>\n",
       "      <th>88</th>\n",
       "      <td>-1</td>\n",
       "    </tr>\n",
       "    <tr>\n",
       "      <th>26</th>\n",
       "      <td>-1</td>\n",
       "    </tr>\n",
       "    <tr>\n",
       "      <th>42</th>\n",
       "      <td>-1</td>\n",
       "    </tr>\n",
       "    <tr>\n",
       "      <th>69</th>\n",
       "      <td>-1</td>\n",
       "    </tr>\n",
       "  </tbody>\n",
       "</table>\n",
       "</div>"
      ],
      "text/plain": [
       "    Good/Bad\n",
       "55        -1\n",
       "88        -1\n",
       "26        -1\n",
       "42        -1\n",
       "69        -1"
      ]
     },
     "execution_count": 32,
     "metadata": {},
     "output_type": "execute_result"
    }
   ],
   "source": [
    "## Independent/Target Variables\n",
    "\n",
    "print(\"Shape of the labels: \", y.shape)\n",
    "y.head()"
   ]
  },
  {
   "cell_type": "code",
   "execution_count": 33,
   "metadata": {},
   "outputs": [],
   "source": [
    "X['Wafers']= X['Wafers'].str.replace('Wafer-' , \"\")"
   ]
  },
  {
   "cell_type": "code",
   "execution_count": 34,
   "metadata": {},
   "outputs": [
    {
     "data": {
      "text/html": [
       "<div>\n",
       "<style scoped>\n",
       "    .dataframe tbody tr th:only-of-type {\n",
       "        vertical-align: middle;\n",
       "    }\n",
       "\n",
       "    .dataframe tbody tr th {\n",
       "        vertical-align: top;\n",
       "    }\n",
       "\n",
       "    .dataframe thead th {\n",
       "        text-align: right;\n",
       "    }\n",
       "</style>\n",
       "<table border=\"1\" class=\"dataframe\">\n",
       "  <thead>\n",
       "    <tr style=\"text-align: right;\">\n",
       "      <th></th>\n",
       "      <th>Wafers</th>\n",
       "      <th>Sensor-1</th>\n",
       "      <th>Sensor-2</th>\n",
       "      <th>Sensor-3</th>\n",
       "      <th>Sensor-4</th>\n",
       "      <th>Sensor-5</th>\n",
       "      <th>Sensor-7</th>\n",
       "      <th>Sensor-8</th>\n",
       "      <th>Sensor-9</th>\n",
       "      <th>Sensor-10</th>\n",
       "      <th>...</th>\n",
       "      <th>Sensor-582</th>\n",
       "      <th>Sensor-583</th>\n",
       "      <th>Sensor-584</th>\n",
       "      <th>Sensor-585</th>\n",
       "      <th>Sensor-586</th>\n",
       "      <th>Sensor-587</th>\n",
       "      <th>Sensor-588</th>\n",
       "      <th>Sensor-589</th>\n",
       "      <th>Sensor-590</th>\n",
       "      <th>Good/Bad</th>\n",
       "    </tr>\n",
       "  </thead>\n",
       "  <tbody>\n",
       "    <tr>\n",
       "      <th>55</th>\n",
       "      <td>856</td>\n",
       "      <td>NaN</td>\n",
       "      <td>2532.45</td>\n",
       "      <td>2191.1333</td>\n",
       "      <td>2197.6570</td>\n",
       "      <td>1.1569</td>\n",
       "      <td>89.7222</td>\n",
       "      <td>0.1251</td>\n",
       "      <td>1.5762</td>\n",
       "      <td>0.0028</td>\n",
       "      <td>...</td>\n",
       "      <td>NaN</td>\n",
       "      <td>0.4936</td>\n",
       "      <td>0.0113</td>\n",
       "      <td>0.0033</td>\n",
       "      <td>2.2874</td>\n",
       "      <td>0.0133</td>\n",
       "      <td>0.0139</td>\n",
       "      <td>0.0038</td>\n",
       "      <td>104.3034</td>\n",
       "      <td>-1</td>\n",
       "    </tr>\n",
       "    <tr>\n",
       "      <th>88</th>\n",
       "      <td>889</td>\n",
       "      <td>3221.21</td>\n",
       "      <td>2391.20</td>\n",
       "      <td>2189.9667</td>\n",
       "      <td>1046.6212</td>\n",
       "      <td>0.8662</td>\n",
       "      <td>102.3622</td>\n",
       "      <td>0.1208</td>\n",
       "      <td>1.4756</td>\n",
       "      <td>-0.0025</td>\n",
       "      <td>...</td>\n",
       "      <td>NaN</td>\n",
       "      <td>0.4940</td>\n",
       "      <td>0.0123</td>\n",
       "      <td>0.0033</td>\n",
       "      <td>2.4860</td>\n",
       "      <td>0.0280</td>\n",
       "      <td>0.0078</td>\n",
       "      <td>0.0022</td>\n",
       "      <td>27.7601</td>\n",
       "      <td>-1</td>\n",
       "    </tr>\n",
       "    <tr>\n",
       "      <th>26</th>\n",
       "      <td>827</td>\n",
       "      <td>2951.85</td>\n",
       "      <td>2525.00</td>\n",
       "      <td>2189.5777</td>\n",
       "      <td>1320.3197</td>\n",
       "      <td>1.3459</td>\n",
       "      <td>100.7744</td>\n",
       "      <td>0.1234</td>\n",
       "      <td>1.5590</td>\n",
       "      <td>-0.0032</td>\n",
       "      <td>...</td>\n",
       "      <td>53.8577</td>\n",
       "      <td>0.5025</td>\n",
       "      <td>0.0178</td>\n",
       "      <td>0.0045</td>\n",
       "      <td>3.5361</td>\n",
       "      <td>0.0286</td>\n",
       "      <td>0.0154</td>\n",
       "      <td>0.0056</td>\n",
       "      <td>53.8577</td>\n",
       "      <td>-1</td>\n",
       "    </tr>\n",
       "    <tr>\n",
       "      <th>42</th>\n",
       "      <td>843</td>\n",
       "      <td>2982.07</td>\n",
       "      <td>2447.06</td>\n",
       "      <td>2199.6334</td>\n",
       "      <td>1242.8420</td>\n",
       "      <td>1.4083</td>\n",
       "      <td>99.2178</td>\n",
       "      <td>0.1221</td>\n",
       "      <td>1.4542</td>\n",
       "      <td>0.0142</td>\n",
       "      <td>...</td>\n",
       "      <td>NaN</td>\n",
       "      <td>0.4993</td>\n",
       "      <td>0.0151</td>\n",
       "      <td>0.0038</td>\n",
       "      <td>3.0214</td>\n",
       "      <td>0.0117</td>\n",
       "      <td>0.0262</td>\n",
       "      <td>0.0089</td>\n",
       "      <td>223.1018</td>\n",
       "      <td>-1</td>\n",
       "    </tr>\n",
       "    <tr>\n",
       "      <th>69</th>\n",
       "      <td>870</td>\n",
       "      <td>3058.08</td>\n",
       "      <td>2524.60</td>\n",
       "      <td>2192.3778</td>\n",
       "      <td>1110.5453</td>\n",
       "      <td>0.8147</td>\n",
       "      <td>99.2922</td>\n",
       "      <td>0.1226</td>\n",
       "      <td>1.4958</td>\n",
       "      <td>0.0004</td>\n",
       "      <td>...</td>\n",
       "      <td>24.6547</td>\n",
       "      <td>0.4974</td>\n",
       "      <td>0.0171</td>\n",
       "      <td>0.0040</td>\n",
       "      <td>3.4352</td>\n",
       "      <td>0.0218</td>\n",
       "      <td>0.0054</td>\n",
       "      <td>0.0020</td>\n",
       "      <td>24.6547</td>\n",
       "      <td>-1</td>\n",
       "    </tr>\n",
       "  </tbody>\n",
       "</table>\n",
       "<p>5 rows × 466 columns</p>\n",
       "</div>"
      ],
      "text/plain": [
       "   Wafers  Sensor-1  Sensor-2   Sensor-3   Sensor-4  Sensor-5  Sensor-7  \\\n",
       "55    856       NaN   2532.45  2191.1333  2197.6570    1.1569   89.7222   \n",
       "88    889   3221.21   2391.20  2189.9667  1046.6212    0.8662  102.3622   \n",
       "26    827   2951.85   2525.00  2189.5777  1320.3197    1.3459  100.7744   \n",
       "42    843   2982.07   2447.06  2199.6334  1242.8420    1.4083   99.2178   \n",
       "69    870   3058.08   2524.60  2192.3778  1110.5453    0.8147   99.2922   \n",
       "\n",
       "    Sensor-8  Sensor-9  Sensor-10  ...  Sensor-582  Sensor-583  Sensor-584  \\\n",
       "55    0.1251    1.5762     0.0028  ...         NaN      0.4936      0.0113   \n",
       "88    0.1208    1.4756    -0.0025  ...         NaN      0.4940      0.0123   \n",
       "26    0.1234    1.5590    -0.0032  ...     53.8577      0.5025      0.0178   \n",
       "42    0.1221    1.4542     0.0142  ...         NaN      0.4993      0.0151   \n",
       "69    0.1226    1.4958     0.0004  ...     24.6547      0.4974      0.0171   \n",
       "\n",
       "    Sensor-585  Sensor-586  Sensor-587  Sensor-588  Sensor-589  Sensor-590  \\\n",
       "55      0.0033      2.2874      0.0133      0.0139      0.0038    104.3034   \n",
       "88      0.0033      2.4860      0.0280      0.0078      0.0022     27.7601   \n",
       "26      0.0045      3.5361      0.0286      0.0154      0.0056     53.8577   \n",
       "42      0.0038      3.0214      0.0117      0.0262      0.0089    223.1018   \n",
       "69      0.0040      3.4352      0.0218      0.0054      0.0020     24.6547   \n",
       "\n",
       "    Good/Bad  \n",
       "55        -1  \n",
       "88        -1  \n",
       "26        -1  \n",
       "42        -1  \n",
       "69        -1  \n",
       "\n",
       "[5 rows x 466 columns]"
      ]
     },
     "execution_count": 34,
     "metadata": {},
     "output_type": "execute_result"
    }
   ],
   "source": [
    "X.head()"
   ]
  },
  {
   "cell_type": "markdown",
   "metadata": {},
   "source": [
    "## # Data Transformation:"
   ]
  },
  {
   "cell_type": "code",
   "execution_count": 35,
   "metadata": {},
   "outputs": [
    {
     "data": {
      "text/html": [
       "<style>#sk-container-id-1 {color: black;background-color: white;}#sk-container-id-1 pre{padding: 0;}#sk-container-id-1 div.sk-toggleable {background-color: white;}#sk-container-id-1 label.sk-toggleable__label {cursor: pointer;display: block;width: 100%;margin-bottom: 0;padding: 0.3em;box-sizing: border-box;text-align: center;}#sk-container-id-1 label.sk-toggleable__label-arrow:before {content: \"▸\";float: left;margin-right: 0.25em;color: #696969;}#sk-container-id-1 label.sk-toggleable__label-arrow:hover:before {color: black;}#sk-container-id-1 div.sk-estimator:hover label.sk-toggleable__label-arrow:before {color: black;}#sk-container-id-1 div.sk-toggleable__content {max-height: 0;max-width: 0;overflow: hidden;text-align: left;background-color: #f0f8ff;}#sk-container-id-1 div.sk-toggleable__content pre {margin: 0.2em;color: black;border-radius: 0.25em;background-color: #f0f8ff;}#sk-container-id-1 input.sk-toggleable__control:checked~div.sk-toggleable__content {max-height: 200px;max-width: 100%;overflow: auto;}#sk-container-id-1 input.sk-toggleable__control:checked~label.sk-toggleable__label-arrow:before {content: \"▾\";}#sk-container-id-1 div.sk-estimator input.sk-toggleable__control:checked~label.sk-toggleable__label {background-color: #d4ebff;}#sk-container-id-1 div.sk-label input.sk-toggleable__control:checked~label.sk-toggleable__label {background-color: #d4ebff;}#sk-container-id-1 input.sk-hidden--visually {border: 0;clip: rect(1px 1px 1px 1px);clip: rect(1px, 1px, 1px, 1px);height: 1px;margin: -1px;overflow: hidden;padding: 0;position: absolute;width: 1px;}#sk-container-id-1 div.sk-estimator {font-family: monospace;background-color: #f0f8ff;border: 1px dotted black;border-radius: 0.25em;box-sizing: border-box;margin-bottom: 0.5em;}#sk-container-id-1 div.sk-estimator:hover {background-color: #d4ebff;}#sk-container-id-1 div.sk-parallel-item::after {content: \"\";width: 100%;border-bottom: 1px solid gray;flex-grow: 1;}#sk-container-id-1 div.sk-label:hover label.sk-toggleable__label {background-color: #d4ebff;}#sk-container-id-1 div.sk-serial::before {content: \"\";position: absolute;border-left: 1px solid gray;box-sizing: border-box;top: 0;bottom: 0;left: 50%;z-index: 0;}#sk-container-id-1 div.sk-serial {display: flex;flex-direction: column;align-items: center;background-color: white;padding-right: 0.2em;padding-left: 0.2em;position: relative;}#sk-container-id-1 div.sk-item {position: relative;z-index: 1;}#sk-container-id-1 div.sk-parallel {display: flex;align-items: stretch;justify-content: center;background-color: white;position: relative;}#sk-container-id-1 div.sk-item::before, #sk-container-id-1 div.sk-parallel-item::before {content: \"\";position: absolute;border-left: 1px solid gray;box-sizing: border-box;top: 0;bottom: 0;left: 50%;z-index: -1;}#sk-container-id-1 div.sk-parallel-item {display: flex;flex-direction: column;z-index: 1;position: relative;background-color: white;}#sk-container-id-1 div.sk-parallel-item:first-child::after {align-self: flex-end;width: 50%;}#sk-container-id-1 div.sk-parallel-item:last-child::after {align-self: flex-start;width: 50%;}#sk-container-id-1 div.sk-parallel-item:only-child::after {width: 0;}#sk-container-id-1 div.sk-dashed-wrapped {border: 1px dashed gray;margin: 0 0.4em 0.5em 0.4em;box-sizing: border-box;padding-bottom: 0.4em;background-color: white;}#sk-container-id-1 div.sk-label label {font-family: monospace;font-weight: bold;display: inline-block;line-height: 1.2em;}#sk-container-id-1 div.sk-label-container {text-align: center;}#sk-container-id-1 div.sk-container {/* jupyter's `normalize.less` sets `[hidden] { display: none; }` but bootstrap.min.css set `[hidden] { display: none !important; }` so we also need the `!important` here to be able to override the default hidden behavior on the sphinx rendered scikit-learn.org. See: https://github.com/scikit-learn/scikit-learn/issues/21755 */display: inline-block !important;position: relative;}#sk-container-id-1 div.sk-text-repr-fallback {display: none;}</style><div id=\"sk-container-id-1\" class=\"sk-top-container\"><div class=\"sk-text-repr-fallback\"><pre>Pipeline(steps=[(&#x27;imputer&#x27;, KNNImputer(n_neighbors=3)),\n",
       "                (&#x27;scaler&#x27;, RobustScaler())])</pre><b>In a Jupyter environment, please rerun this cell to show the HTML representation or trust the notebook. <br />On GitHub, the HTML representation is unable to render, please try loading this page with nbviewer.org.</b></div><div class=\"sk-container\" hidden><div class=\"sk-item sk-dashed-wrapped\"><div class=\"sk-label-container\"><div class=\"sk-label sk-toggleable\"><input class=\"sk-toggleable__control sk-hidden--visually\" id=\"sk-estimator-id-1\" type=\"checkbox\" ><label for=\"sk-estimator-id-1\" class=\"sk-toggleable__label sk-toggleable__label-arrow\">Pipeline</label><div class=\"sk-toggleable__content\"><pre>Pipeline(steps=[(&#x27;imputer&#x27;, KNNImputer(n_neighbors=3)),\n",
       "                (&#x27;scaler&#x27;, RobustScaler())])</pre></div></div></div><div class=\"sk-serial\"><div class=\"sk-item\"><div class=\"sk-estimator sk-toggleable\"><input class=\"sk-toggleable__control sk-hidden--visually\" id=\"sk-estimator-id-2\" type=\"checkbox\" ><label for=\"sk-estimator-id-2\" class=\"sk-toggleable__label sk-toggleable__label-arrow\">KNNImputer</label><div class=\"sk-toggleable__content\"><pre>KNNImputer(n_neighbors=3)</pre></div></div></div><div class=\"sk-item\"><div class=\"sk-estimator sk-toggleable\"><input class=\"sk-toggleable__control sk-hidden--visually\" id=\"sk-estimator-id-3\" type=\"checkbox\" ><label for=\"sk-estimator-id-3\" class=\"sk-toggleable__label sk-toggleable__label-arrow\">RobustScaler</label><div class=\"sk-toggleable__content\"><pre>RobustScaler()</pre></div></div></div></div></div></div></div>"
      ],
      "text/plain": [
       "Pipeline(steps=[('imputer', KNNImputer(n_neighbors=3)),\n",
       "                ('scaler', RobustScaler())])"
      ]
     },
     "execution_count": 35,
     "metadata": {},
     "output_type": "execute_result"
    }
   ],
   "source": [
    "from sklearn.pipeline import Pipeline \n",
    "from sklearn.impute import KNNImputer,SimpleImputer\n",
    "from sklearn.preprocessing import StandardScaler,RobustScaler\n",
    "\n",
    "imputer = KNNImputer(n_neighbors=3)\n",
    "scaler = RobustScaler()\n",
    "preprocessing_pipeline = Pipeline(\n",
    "    steps = [\n",
    "        ('imputer' , imputer) , ('scaler', scaler)\n",
    "    ]\n",
    ")\n",
    "preprocessing_pipeline"
   ]
  },
  {
   "cell_type": "code",
   "execution_count": 36,
   "metadata": {},
   "outputs": [
    {
     "data": {
      "text/html": [
       "<div>\n",
       "<style scoped>\n",
       "    .dataframe tbody tr th:only-of-type {\n",
       "        vertical-align: middle;\n",
       "    }\n",
       "\n",
       "    .dataframe tbody tr th {\n",
       "        vertical-align: top;\n",
       "    }\n",
       "\n",
       "    .dataframe thead th {\n",
       "        text-align: right;\n",
       "    }\n",
       "</style>\n",
       "<table border=\"1\" class=\"dataframe\">\n",
       "  <thead>\n",
       "    <tr style=\"text-align: right;\">\n",
       "      <th></th>\n",
       "      <th>Wafers</th>\n",
       "      <th>Sensor-1</th>\n",
       "      <th>Sensor-2</th>\n",
       "      <th>Sensor-3</th>\n",
       "      <th>Sensor-4</th>\n",
       "      <th>Sensor-5</th>\n",
       "      <th>Sensor-7</th>\n",
       "      <th>Sensor-8</th>\n",
       "      <th>Sensor-9</th>\n",
       "      <th>Sensor-10</th>\n",
       "      <th>...</th>\n",
       "      <th>Sensor-582</th>\n",
       "      <th>Sensor-583</th>\n",
       "      <th>Sensor-584</th>\n",
       "      <th>Sensor-585</th>\n",
       "      <th>Sensor-586</th>\n",
       "      <th>Sensor-587</th>\n",
       "      <th>Sensor-588</th>\n",
       "      <th>Sensor-589</th>\n",
       "      <th>Sensor-590</th>\n",
       "      <th>Good/Bad</th>\n",
       "    </tr>\n",
       "  </thead>\n",
       "  <tbody>\n",
       "    <tr>\n",
       "      <th>55</th>\n",
       "      <td>856</td>\n",
       "      <td>NaN</td>\n",
       "      <td>2532.45</td>\n",
       "      <td>2191.1333</td>\n",
       "      <td>2197.6570</td>\n",
       "      <td>1.1569</td>\n",
       "      <td>89.7222</td>\n",
       "      <td>0.1251</td>\n",
       "      <td>1.5762</td>\n",
       "      <td>0.0028</td>\n",
       "      <td>...</td>\n",
       "      <td>NaN</td>\n",
       "      <td>0.4936</td>\n",
       "      <td>0.0113</td>\n",
       "      <td>0.0033</td>\n",
       "      <td>2.2874</td>\n",
       "      <td>0.0133</td>\n",
       "      <td>0.0139</td>\n",
       "      <td>0.0038</td>\n",
       "      <td>104.3034</td>\n",
       "      <td>-1</td>\n",
       "    </tr>\n",
       "    <tr>\n",
       "      <th>88</th>\n",
       "      <td>889</td>\n",
       "      <td>3221.21</td>\n",
       "      <td>2391.20</td>\n",
       "      <td>2189.9667</td>\n",
       "      <td>1046.6212</td>\n",
       "      <td>0.8662</td>\n",
       "      <td>102.3622</td>\n",
       "      <td>0.1208</td>\n",
       "      <td>1.4756</td>\n",
       "      <td>-0.0025</td>\n",
       "      <td>...</td>\n",
       "      <td>NaN</td>\n",
       "      <td>0.4940</td>\n",
       "      <td>0.0123</td>\n",
       "      <td>0.0033</td>\n",
       "      <td>2.4860</td>\n",
       "      <td>0.0280</td>\n",
       "      <td>0.0078</td>\n",
       "      <td>0.0022</td>\n",
       "      <td>27.7601</td>\n",
       "      <td>-1</td>\n",
       "    </tr>\n",
       "    <tr>\n",
       "      <th>26</th>\n",
       "      <td>827</td>\n",
       "      <td>2951.85</td>\n",
       "      <td>2525.00</td>\n",
       "      <td>2189.5777</td>\n",
       "      <td>1320.3197</td>\n",
       "      <td>1.3459</td>\n",
       "      <td>100.7744</td>\n",
       "      <td>0.1234</td>\n",
       "      <td>1.5590</td>\n",
       "      <td>-0.0032</td>\n",
       "      <td>...</td>\n",
       "      <td>53.8577</td>\n",
       "      <td>0.5025</td>\n",
       "      <td>0.0178</td>\n",
       "      <td>0.0045</td>\n",
       "      <td>3.5361</td>\n",
       "      <td>0.0286</td>\n",
       "      <td>0.0154</td>\n",
       "      <td>0.0056</td>\n",
       "      <td>53.8577</td>\n",
       "      <td>-1</td>\n",
       "    </tr>\n",
       "    <tr>\n",
       "      <th>42</th>\n",
       "      <td>843</td>\n",
       "      <td>2982.07</td>\n",
       "      <td>2447.06</td>\n",
       "      <td>2199.6334</td>\n",
       "      <td>1242.8420</td>\n",
       "      <td>1.4083</td>\n",
       "      <td>99.2178</td>\n",
       "      <td>0.1221</td>\n",
       "      <td>1.4542</td>\n",
       "      <td>0.0142</td>\n",
       "      <td>...</td>\n",
       "      <td>NaN</td>\n",
       "      <td>0.4993</td>\n",
       "      <td>0.0151</td>\n",
       "      <td>0.0038</td>\n",
       "      <td>3.0214</td>\n",
       "      <td>0.0117</td>\n",
       "      <td>0.0262</td>\n",
       "      <td>0.0089</td>\n",
       "      <td>223.1018</td>\n",
       "      <td>-1</td>\n",
       "    </tr>\n",
       "    <tr>\n",
       "      <th>69</th>\n",
       "      <td>870</td>\n",
       "      <td>3058.08</td>\n",
       "      <td>2524.60</td>\n",
       "      <td>2192.3778</td>\n",
       "      <td>1110.5453</td>\n",
       "      <td>0.8147</td>\n",
       "      <td>99.2922</td>\n",
       "      <td>0.1226</td>\n",
       "      <td>1.4958</td>\n",
       "      <td>0.0004</td>\n",
       "      <td>...</td>\n",
       "      <td>24.6547</td>\n",
       "      <td>0.4974</td>\n",
       "      <td>0.0171</td>\n",
       "      <td>0.0040</td>\n",
       "      <td>3.4352</td>\n",
       "      <td>0.0218</td>\n",
       "      <td>0.0054</td>\n",
       "      <td>0.0020</td>\n",
       "      <td>24.6547</td>\n",
       "      <td>-1</td>\n",
       "    </tr>\n",
       "    <tr>\n",
       "      <th>...</th>\n",
       "      <td>...</td>\n",
       "      <td>...</td>\n",
       "      <td>...</td>\n",
       "      <td>...</td>\n",
       "      <td>...</td>\n",
       "      <td>...</td>\n",
       "      <td>...</td>\n",
       "      <td>...</td>\n",
       "      <td>...</td>\n",
       "      <td>...</td>\n",
       "      <td>...</td>\n",
       "      <td>...</td>\n",
       "      <td>...</td>\n",
       "      <td>...</td>\n",
       "      <td>...</td>\n",
       "      <td>...</td>\n",
       "      <td>...</td>\n",
       "      <td>...</td>\n",
       "      <td>...</td>\n",
       "      <td>...</td>\n",
       "      <td>...</td>\n",
       "    </tr>\n",
       "    <tr>\n",
       "      <th>60</th>\n",
       "      <td>861</td>\n",
       "      <td>3071.05</td>\n",
       "      <td>2642.15</td>\n",
       "      <td>2200.9889</td>\n",
       "      <td>1054.5240</td>\n",
       "      <td>1.3830</td>\n",
       "      <td>100.1800</td>\n",
       "      <td>0.1201</td>\n",
       "      <td>1.4532</td>\n",
       "      <td>0.0049</td>\n",
       "      <td>...</td>\n",
       "      <td>NaN</td>\n",
       "      <td>0.4973</td>\n",
       "      <td>0.0139</td>\n",
       "      <td>0.0039</td>\n",
       "      <td>2.7851</td>\n",
       "      <td>0.0122</td>\n",
       "      <td>0.0131</td>\n",
       "      <td>0.0039</td>\n",
       "      <td>107.5257</td>\n",
       "      <td>-1</td>\n",
       "    </tr>\n",
       "    <tr>\n",
       "      <th>71</th>\n",
       "      <td>872</td>\n",
       "      <td>3043.18</td>\n",
       "      <td>2545.53</td>\n",
       "      <td>2192.3778</td>\n",
       "      <td>1110.5453</td>\n",
       "      <td>0.8147</td>\n",
       "      <td>99.2922</td>\n",
       "      <td>0.1226</td>\n",
       "      <td>1.3824</td>\n",
       "      <td>-0.0001</td>\n",
       "      <td>...</td>\n",
       "      <td>NaN</td>\n",
       "      <td>0.4989</td>\n",
       "      <td>0.0131</td>\n",
       "      <td>0.0036</td>\n",
       "      <td>2.6253</td>\n",
       "      <td>0.0218</td>\n",
       "      <td>0.0054</td>\n",
       "      <td>0.0020</td>\n",
       "      <td>24.6547</td>\n",
       "      <td>-1</td>\n",
       "    </tr>\n",
       "    <tr>\n",
       "      <th>14</th>\n",
       "      <td>815</td>\n",
       "      <td>3001.26</td>\n",
       "      <td>2519.92</td>\n",
       "      <td>2224.6778</td>\n",
       "      <td>1308.6479</td>\n",
       "      <td>1.3907</td>\n",
       "      <td>101.1333</td>\n",
       "      <td>0.1208</td>\n",
       "      <td>1.5172</td>\n",
       "      <td>-0.0135</td>\n",
       "      <td>...</td>\n",
       "      <td>48.4818</td>\n",
       "      <td>0.4959</td>\n",
       "      <td>0.0142</td>\n",
       "      <td>0.0037</td>\n",
       "      <td>2.8609</td>\n",
       "      <td>0.0278</td>\n",
       "      <td>0.0135</td>\n",
       "      <td>0.0042</td>\n",
       "      <td>48.4818</td>\n",
       "      <td>-1</td>\n",
       "    </tr>\n",
       "    <tr>\n",
       "      <th>92</th>\n",
       "      <td>893</td>\n",
       "      <td>3007.00</td>\n",
       "      <td>2572.62</td>\n",
       "      <td>2213.2111</td>\n",
       "      <td>2070.7147</td>\n",
       "      <td>1.9705</td>\n",
       "      <td>87.7411</td>\n",
       "      <td>0.1232</td>\n",
       "      <td>1.4446</td>\n",
       "      <td>-0.0050</td>\n",
       "      <td>...</td>\n",
       "      <td>NaN</td>\n",
       "      <td>0.4987</td>\n",
       "      <td>0.0172</td>\n",
       "      <td>0.0041</td>\n",
       "      <td>3.4417</td>\n",
       "      <td>0.0195</td>\n",
       "      <td>0.0149</td>\n",
       "      <td>0.0047</td>\n",
       "      <td>76.0035</td>\n",
       "      <td>-1</td>\n",
       "    </tr>\n",
       "    <tr>\n",
       "      <th>51</th>\n",
       "      <td>852</td>\n",
       "      <td>3078.77</td>\n",
       "      <td>2533.04</td>\n",
       "      <td>2187.4111</td>\n",
       "      <td>1942.3069</td>\n",
       "      <td>1.1864</td>\n",
       "      <td>88.0911</td>\n",
       "      <td>0.1245</td>\n",
       "      <td>1.4500</td>\n",
       "      <td>-0.0053</td>\n",
       "      <td>...</td>\n",
       "      <td>46.7092</td>\n",
       "      <td>0.4968</td>\n",
       "      <td>0.0202</td>\n",
       "      <td>0.0052</td>\n",
       "      <td>4.0733</td>\n",
       "      <td>0.0262</td>\n",
       "      <td>0.0123</td>\n",
       "      <td>0.0033</td>\n",
       "      <td>46.7092</td>\n",
       "      <td>-1</td>\n",
       "    </tr>\n",
       "  </tbody>\n",
       "</table>\n",
       "<p>80 rows × 466 columns</p>\n",
       "</div>"
      ],
      "text/plain": [
       "   Wafers  Sensor-1  Sensor-2   Sensor-3   Sensor-4  Sensor-5  Sensor-7  \\\n",
       "55    856       NaN   2532.45  2191.1333  2197.6570    1.1569   89.7222   \n",
       "88    889   3221.21   2391.20  2189.9667  1046.6212    0.8662  102.3622   \n",
       "26    827   2951.85   2525.00  2189.5777  1320.3197    1.3459  100.7744   \n",
       "42    843   2982.07   2447.06  2199.6334  1242.8420    1.4083   99.2178   \n",
       "69    870   3058.08   2524.60  2192.3778  1110.5453    0.8147   99.2922   \n",
       "..    ...       ...       ...        ...        ...       ...       ...   \n",
       "60    861   3071.05   2642.15  2200.9889  1054.5240    1.3830  100.1800   \n",
       "71    872   3043.18   2545.53  2192.3778  1110.5453    0.8147   99.2922   \n",
       "14    815   3001.26   2519.92  2224.6778  1308.6479    1.3907  101.1333   \n",
       "92    893   3007.00   2572.62  2213.2111  2070.7147    1.9705   87.7411   \n",
       "51    852   3078.77   2533.04  2187.4111  1942.3069    1.1864   88.0911   \n",
       "\n",
       "    Sensor-8  Sensor-9  Sensor-10  ...  Sensor-582  Sensor-583  Sensor-584  \\\n",
       "55    0.1251    1.5762     0.0028  ...         NaN      0.4936      0.0113   \n",
       "88    0.1208    1.4756    -0.0025  ...         NaN      0.4940      0.0123   \n",
       "26    0.1234    1.5590    -0.0032  ...     53.8577      0.5025      0.0178   \n",
       "42    0.1221    1.4542     0.0142  ...         NaN      0.4993      0.0151   \n",
       "69    0.1226    1.4958     0.0004  ...     24.6547      0.4974      0.0171   \n",
       "..       ...       ...        ...  ...         ...         ...         ...   \n",
       "60    0.1201    1.4532     0.0049  ...         NaN      0.4973      0.0139   \n",
       "71    0.1226    1.3824    -0.0001  ...         NaN      0.4989      0.0131   \n",
       "14    0.1208    1.5172    -0.0135  ...     48.4818      0.4959      0.0142   \n",
       "92    0.1232    1.4446    -0.0050  ...         NaN      0.4987      0.0172   \n",
       "51    0.1245    1.4500    -0.0053  ...     46.7092      0.4968      0.0202   \n",
       "\n",
       "    Sensor-585  Sensor-586  Sensor-587  Sensor-588  Sensor-589  Sensor-590  \\\n",
       "55      0.0033      2.2874      0.0133      0.0139      0.0038    104.3034   \n",
       "88      0.0033      2.4860      0.0280      0.0078      0.0022     27.7601   \n",
       "26      0.0045      3.5361      0.0286      0.0154      0.0056     53.8577   \n",
       "42      0.0038      3.0214      0.0117      0.0262      0.0089    223.1018   \n",
       "69      0.0040      3.4352      0.0218      0.0054      0.0020     24.6547   \n",
       "..         ...         ...         ...         ...         ...         ...   \n",
       "60      0.0039      2.7851      0.0122      0.0131      0.0039    107.5257   \n",
       "71      0.0036      2.6253      0.0218      0.0054      0.0020     24.6547   \n",
       "14      0.0037      2.8609      0.0278      0.0135      0.0042     48.4818   \n",
       "92      0.0041      3.4417      0.0195      0.0149      0.0047     76.0035   \n",
       "51      0.0052      4.0733      0.0262      0.0123      0.0033     46.7092   \n",
       "\n",
       "    Good/Bad  \n",
       "55        -1  \n",
       "88        -1  \n",
       "26        -1  \n",
       "42        -1  \n",
       "69        -1  \n",
       "..       ...  \n",
       "60        -1  \n",
       "71        -1  \n",
       "14        -1  \n",
       "92        -1  \n",
       "51        -1  \n",
       "\n",
       "[80 rows x 466 columns]"
      ]
     },
     "execution_count": 36,
     "metadata": {},
     "output_type": "execute_result"
    }
   ],
   "source": [
    "X"
   ]
  },
  {
   "cell_type": "code",
   "execution_count": 37,
   "metadata": {},
   "outputs": [
    {
     "data": {
      "text/plain": [
       "array([['856', nan, 2532.45, ..., 0.0038, 104.3034, -1],\n",
       "       ['889', 3221.21, 2391.2, ..., 0.0022, 27.7601, -1],\n",
       "       ['827', 2951.85, 2525.0, ..., 0.0056, 53.8577, -1],\n",
       "       ...,\n",
       "       ['815', 3001.26, 2519.92, ..., 0.0042, 48.4818, -1],\n",
       "       ['893', 3007.0, 2572.62, ..., 0.0047, 76.0035, -1],\n",
       "       ['852', 3078.77, 2533.04, ..., 0.0033, 46.7092, -1]], dtype=object)"
      ]
     },
     "execution_count": 37,
     "metadata": {},
     "output_type": "execute_result"
    }
   ],
   "source": [
    "X.values"
   ]
  },
  {
   "cell_type": "code",
   "execution_count": 38,
   "metadata": {},
   "outputs": [
    {
     "name": "stdout",
     "output_type": "stream",
     "text": [
      "shape of transformed features is : (80, 466)\n"
     ]
    },
    {
     "data": {
      "text/plain": [
       "array([[ 0.07216495, -0.02781221,  0.37395233, ...,  0.        ,\n",
       "         0.75955556,  0.        ],\n",
       "       [ 0.75257732,  2.50431022, -1.38644649, ..., -0.51612903,\n",
       "        -0.52610857,  0.        ],\n",
       "       [-0.5257732 , -0.60204699,  0.28110298, ...,  0.58064516,\n",
       "        -0.08775867,  0.        ],\n",
       "       ...,\n",
       "       [-0.77319588, -0.03223295,  0.21779093, ...,  0.12903226,\n",
       "        -0.17805529,  0.        ],\n",
       "       [ 0.83505155,  0.03396281,  0.87459106, ...,  0.29032258,\n",
       "         0.28421459,  0.        ],\n",
       "       [-0.01030928,  0.86164048,  0.3813055 , ..., -0.16129032,\n",
       "        -0.20782888,  0.        ]])"
      ]
     },
     "execution_count": 38,
     "metadata": {},
     "output_type": "execute_result"
    }
   ],
   "source": [
    "## Transform features \n",
    "\n",
    "X_trans = preprocessing_pipeline.fit_transform(X)\n",
    "print('shape of transformed features is :', X_trans.shape)\n",
    "X_trans"
   ]
  },
  {
   "cell_type": "markdown",
   "metadata": {},
   "source": [
    "## # I will cluster \"Wafers\" instances?\n",
    "\n",
    "Let's see whether clustering of data instances do me any good. "
   ]
  },
  {
   "cell_type": "markdown",
   "metadata": {},
   "source": []
  },
  {
   "cell_type": "code",
   "execution_count": 39,
   "metadata": {},
   "outputs": [],
   "source": [
    "#%pip install kneed"
   ]
  },
  {
   "cell_type": "code",
   "execution_count": 40,
   "metadata": {},
   "outputs": [
    {
     "data": {
      "text/plain": [
       "'from sklearn.cluster import KMeans\\nfrom kneed import KneeLocator\\nfrom typing import Tuple\\nfrom dataclasses import dataclass'"
      ]
     },
     "execution_count": 40,
     "metadata": {},
     "output_type": "execute_result"
    }
   ],
   "source": [
    " '''from sklearn.cluster import KMeans\n",
    " from kneed import KneeLocator\n",
    " from typing import Tuple\n",
    " from dataclasses import dataclass'''"
   ]
  },
  {
   "cell_type": "code",
   "execution_count": 41,
   "metadata": {},
   "outputs": [
    {
     "data": {
      "text/plain": [
       "'@dataclass\\n\\nclass ClusterDataInstances:\\n    X: np.array\\n    desc: str\\n\\n    def get_ideal_no_of_clusters(self):\\n        try:\\n            print(f\\'Getting the ideal number of clusters to cluster \"{self.desc} set\" into..\\')\\n\\n            ####################### Compute WCSS for shortlisted number of clusters ##########################\\n            print(\"computing WCSS for shortlisted number of clusters..\")\\n            wcss = []\\n            for i in range(1,11):\\n                kmeans = KMeans(n_clusters=i , random_state=51)\\n                kmeans.fit(self.X)\\n                wcss.append(kmeans.inertia_)\\n                print(f\"WCSS for n_clusters={i}: {kmeans.inertia_}\")\\n            print(\"WCSS computed successfully for all shortlisted number of clusters!\")\\n\\n            ################### Finalize dispersal point as the ideal number of clusters #####################\\n            print(\"Finding the ideal number of clusters (by locating the dispersal point) via Elbow method..\")\\n            knee_finder = KneeLocator(\\n                range(1,11), wcss , curve=\\'convex\\' , direction=\\'decreasing\\'\\n            )\\n            print(f\"Ideal number of clusters to be formed: {knee_finder.knee}\")\\n            return knee_finder.knee\\n\\n        except Exception as e:\\n            raise e\\n\\n    def create_clusters(self) -> Tuple:\\n        \"\"\"Divides the given data instances into the different clusters, they first hand shoud\\'ve been divided into\\n        via offcourse Kmeans Clustering algorithm.\\n\\n        Raises:\\n            e: Raises relevant exception should any kinda error pops up while dividing the given data instances into\\n            clusters.\\n\\n        Returns:\\n            (KMeans, np.array): KMeans Clustering object being used to cluster the given data instances and the given dataset \\n            along with the cluster labels, respectively.\\n        \"\"\"\\n        try:\\n            ideal_clusters = self.get_ideal_no_of_clusters()\\n            print(\\n                f\"Dividing the \"{self.desc}\" instances into {ideal_clusters} clusters via KMeans Clustering algorithm..\")\\n            kmeans = KMeans(n_clusters=ideal_clusters,\\n                            init=\\'k-means++\\', random_state=42)\\n            y_kmeans = kmeans.fit_predict(self.X)\\n            print(\\n                f\"..said data instances divided into {ideal_clusters} clusters successfully!\")\\n\\n            return kmeans, np.c_[self.X, y_kmeans]\\n            ...\\n        except Exception as e:\\n            print(e)\\n            raise e '"
      ]
     },
     "execution_count": 41,
     "metadata": {},
     "output_type": "execute_result"
    }
   ],
   "source": [
    "'''@dataclass\n",
    "\n",
    "class ClusterDataInstances:\n",
    "    X: np.array\n",
    "    desc: str\n",
    "\n",
    "    def get_ideal_no_of_clusters(self):\n",
    "        try:\n",
    "            print(f'Getting the ideal number of clusters to cluster \"{self.desc} set\" into..')\n",
    "\n",
    "            ####################### Compute WCSS for shortlisted number of clusters ##########################\n",
    "            print(\"computing WCSS for shortlisted number of clusters..\")\n",
    "            wcss = []\n",
    "            for i in range(1,11):\n",
    "                kmeans = KMeans(n_clusters=i , random_state=51)\n",
    "                kmeans.fit(self.X)\n",
    "                wcss.append(kmeans.inertia_)\n",
    "                print(f\"WCSS for n_clusters={i}: {kmeans.inertia_}\")\n",
    "            print(\"WCSS computed successfully for all shortlisted number of clusters!\")\n",
    "\n",
    "            ################### Finalize dispersal point as the ideal number of clusters #####################\n",
    "            print(\"Finding the ideal number of clusters (by locating the dispersal point) via Elbow method..\")\n",
    "            knee_finder = KneeLocator(\n",
    "                range(1,11), wcss , curve='convex' , direction='decreasing'\n",
    "            )\n",
    "            print(f\"Ideal number of clusters to be formed: {knee_finder.knee}\")\n",
    "            return knee_finder.knee\n",
    "\n",
    "        except Exception as e:\n",
    "            raise e\n",
    "\n",
    "    def create_clusters(self) -> Tuple:\n",
    "        \"\"\"Divides the given data instances into the different clusters, they first hand shoud've been divided into\n",
    "        via offcourse Kmeans Clustering algorithm.\n",
    "\n",
    "        Raises:\n",
    "            e: Raises relevant exception should any kinda error pops up while dividing the given data instances into\n",
    "            clusters.\n",
    "\n",
    "        Returns:\n",
    "            (KMeans, np.array): KMeans Clustering object being used to cluster the given data instances and the given dataset \n",
    "            along with the cluster labels, respectively.\n",
    "        \"\"\"\n",
    "        try:\n",
    "            ideal_clusters = self.get_ideal_no_of_clusters()\n",
    "            print(\n",
    "                f\"Dividing the \\\"{self.desc}\\\" instances into {ideal_clusters} clusters via KMeans Clustering algorithm..\")\n",
    "            kmeans = KMeans(n_clusters=ideal_clusters,\n",
    "                            init='k-means++', random_state=42)\n",
    "            y_kmeans = kmeans.fit_predict(self.X)\n",
    "            print(\n",
    "                f\"..said data instances divided into {ideal_clusters} clusters successfully!\")\n",
    "\n",
    "            return kmeans, np.c_[self.X, y_kmeans]\n",
    "            ...\n",
    "        except Exception as e:\n",
    "            print(e)\n",
    "            raise e '''"
   ]
  },
  {
   "cell_type": "code",
   "execution_count": 42,
   "metadata": {},
   "outputs": [
    {
     "data": {
      "text/plain": [
       "'## Cluster `Wafer` instances\\n\\ncluster_wafers = ClusterDataInstances(X=X_trans, desc=\"wafers features\")\\nclusterer, X_clus = cluster_wafers.create_clusters()\\nX_clus'"
      ]
     },
     "execution_count": 42,
     "metadata": {},
     "output_type": "execute_result"
    }
   ],
   "source": [
    "'''## Cluster `Wafer` instances\n",
    "\n",
    "cluster_wafers = ClusterDataInstances(X=X_trans, desc=\"wafers features\")\n",
    "clusterer, X_clus = cluster_wafers.create_clusters()\n",
    "X_clus'''"
   ]
  },
  {
   "cell_type": "code",
   "execution_count": 43,
   "metadata": {},
   "outputs": [
    {
     "data": {
      "text/plain": [
       "'## Clusters\\n\\nnp.unique(X_clus[:, -1])'"
      ]
     },
     "execution_count": 43,
     "metadata": {},
     "output_type": "execute_result"
    }
   ],
   "source": [
    "'''## Clusters\n",
    "\n",
    "np.unique(X_clus[:, -1])'''"
   ]
  },
  {
   "cell_type": "markdown",
   "metadata": {},
   "source": [
    "**=>** So the dataset was divided into 3 optimal clusters.\n",
    "\n",
    "Let's have a look at their shapes.."
   ]
  },
  {
   "cell_type": "code",
   "execution_count": 44,
   "metadata": {},
   "outputs": [
    {
     "data": {
      "text/plain": [
       "'## Configure \"Clustered\" array along with target features\\nwafers_clus = np.c_[X_clus, y]\\n\\n## Cluster_1 data\\nwafers_1 = wafers_clus[wafers_clus[:, -2] == 0]\\nwafers_1.shape'"
      ]
     },
     "execution_count": 44,
     "metadata": {},
     "output_type": "execute_result"
    }
   ],
   "source": [
    "'''## Configure \"Clustered\" array along with target features\n",
    "wafers_clus = np.c_[X_clus, y]\n",
    "\n",
    "## Cluster_1 data\n",
    "wafers_1 = wafers_clus[wafers_clus[:, -2] == 0]\n",
    "wafers_1.shape'''"
   ]
  },
  {
   "cell_type": "markdown",
   "metadata": {},
   "source": [
    "**=>** Perhaps we were wrong about dividing the `Wafers` dataset into clusters, as we can see pretty much of all datapoints lie in the first cluster itself.\n",
    "\n",
    "Let's take look at another clusters anyway.."
   ]
  },
  {
   "cell_type": "code",
   "execution_count": 45,
   "metadata": {},
   "outputs": [
    {
     "data": {
      "text/plain": [
       "'## Cluster_2 data\\n\\nwafers_clus[wafers_clus[:, -2] == 1].shape'"
      ]
     },
     "execution_count": 45,
     "metadata": {},
     "output_type": "execute_result"
    }
   ],
   "source": [
    "'''## Cluster_2 data\n",
    "\n",
    "wafers_clus[wafers_clus[:, -2] == 1].shape'''"
   ]
  },
  {
   "cell_type": "code",
   "execution_count": 46,
   "metadata": {},
   "outputs": [
    {
     "data": {
      "text/plain": [
       "'## Cluster_3 data\\n\\nwafers_clus[wafers_clus[:, -2] == 2].shape'"
      ]
     },
     "execution_count": 46,
     "metadata": {},
     "output_type": "execute_result"
    }
   ],
   "source": [
    "'''## Cluster_3 data\n",
    "\n",
    "wafers_clus[wafers_clus[:, -2] == 2].shape'''"
   ]
  },
  {
   "cell_type": "markdown",
   "metadata": {},
   "source": [
    "**=>** Thus we mustn't divide the dataset into clusters. Not a good idea!"
   ]
  },
  {
   "cell_type": "markdown",
   "metadata": {},
   "source": [
    "## # Resampling of Training Instances:\n",
    "\n",
    "Resampling is imperative in this case as the target variable is highly imbalanced."
   ]
  },
  {
   "cell_type": "code",
   "execution_count": 47,
   "metadata": {},
   "outputs": [
    {
     "name": "stdout",
     "output_type": "stream",
     "text": [
      "Defaulting to user installation because normal site-packages is not writeable\n",
      "Requirement already satisfied: imbalanced-learn in c:\\users\\er_luciferr.luc.000\\appdata\\roaming\\python\\python311\\site-packages (0.12.0)\n",
      "Requirement already satisfied: numpy>=1.17.3 in c:\\programdata\\anaconda3\\lib\\site-packages (from imbalanced-learn) (1.24.3)\n",
      "Requirement already satisfied: scipy>=1.5.0 in c:\\programdata\\anaconda3\\lib\\site-packages (from imbalanced-learn) (1.11.1)\n",
      "Requirement already satisfied: scikit-learn>=1.0.2 in c:\\users\\er_luciferr.luc.000\\appdata\\roaming\\python\\python311\\site-packages (from imbalanced-learn) (1.2.0)\n",
      "Requirement already satisfied: joblib>=1.1.1 in c:\\programdata\\anaconda3\\lib\\site-packages (from imbalanced-learn) (1.2.0)\n",
      "Requirement already satisfied: threadpoolctl>=2.0.0 in c:\\programdata\\anaconda3\\lib\\site-packages (from imbalanced-learn) (2.2.0)\n",
      "Note: you may need to restart the kernel to use updated packages.\n"
     ]
    }
   ],
   "source": [
    "#%pip install scikit-learn\n",
    "%pip install imbalanced-learn"
   ]
  },
  {
   "cell_type": "code",
   "execution_count": 48,
   "metadata": {},
   "outputs": [],
   "source": [
    "\n",
    "from imblearn.combine import SMOTETomek\n",
    "#from imblearn.over_sampling import SMOTE\n",
    "\n",
    "X = X_trans[:,:-1]\n",
    "resampler = SMOTETomek(sampling_strategy=\"auto\")\n",
    "#resampler = SMOTETomek(random_state=52 ,  smote=SMOTE(k_neighbors=3))\n",
    "X_res , y_res = resampler.fit_resample(X,y)"
   ]
  },
  {
   "cell_type": "code",
   "execution_count": 49,
   "metadata": {},
   "outputs": [
    {
     "name": "stdout",
     "output_type": "stream",
     "text": [
      "Before resampling, Shape of training instances:  (80, 466)\n",
      "After resampling, Shape of training instances:  (148, 466)\n"
     ]
    }
   ],
   "source": [
    "print(\"Before resampling, Shape of training instances: \", np.c_[X, y].shape)\n",
    "print(\"After resampling, Shape of training instances: \", np.c_[X_res, y_res].shape)"
   ]
  },
  {
   "cell_type": "code",
   "execution_count": 50,
   "metadata": {},
   "outputs": [
    {
     "name": "stdout",
     "output_type": "stream",
     "text": [
      "[-1  1]\n",
      "Value Counts: \n",
      " -1: 148 , 1:148\n"
     ]
    }
   ],
   "source": [
    "## Target Category after resampling \n",
    "\n",
    "print(np.unique(y_res))\n",
    "print(f'Value Counts: \\n -1: {len(y_res[y_res== -1])} , 1:{len(y_res[y_res== 1])}')"
   ]
  },
  {
   "cell_type": "markdown",
   "metadata": {},
   "source": [
    "**=>** Exactly what we wanted"
   ]
  },
  {
   "cell_type": "markdown",
   "metadata": {},
   "source": [
    "### # Prepare the Test set:\n"
   ]
  },
  {
   "cell_type": "code",
   "execution_count": 51,
   "metadata": {},
   "outputs": [
    {
     "name": "stdout",
     "output_type": "stream",
     "text": [
      "train set : ((99, 465), (99, 1))\n",
      "test set : ((49, 465), (49, 1))\n"
     ]
    }
   ],
   "source": [
    "from sklearn.model_selection import train_test_split\n",
    "\n",
    "X_train,X_test,y_train,y_test = train_test_split(X_res , y_res , test_size=.33 , random_state=42 )\n",
    " \n",
    "print(f\"train set : {X_train.shape , y_train.shape}\")\n",
    "print(f\"test set : {X_test.shape , y_test.shape}\")"
   ]
  },
  {
   "cell_type": "code",
   "execution_count": 52,
   "metadata": {},
   "outputs": [
    {
     "data": {
      "text/plain": [
       "array([[ 0.62886598,  1.03231945, -0.12681103, ..., -0.10638298,\n",
       "        -0.09677419,  0.52699207],\n",
       "       [ 0.01030928,  0.03938302,  0.85664434, ..., -0.08510638,\n",
       "        -0.16129032, -0.20782888],\n",
       "       [ 0.21649485, -0.02427562,  1.19364387, ..., -0.68085106,\n",
       "        -0.4516129 , -0.43384171],\n",
       "       ...,\n",
       "       [ 0.8556701 , -0.25319302,  0.87658514, ...,  0.19148936,\n",
       "         0.29032258,  0.28421459],\n",
       "       [ 0.97668215, -1.02088242, -0.46369421, ..., -0.87784007,\n",
       "        -0.6721769 , -0.46411136],\n",
       "       [ 0.67432187, -0.31848452, -0.38675388, ..., -0.11697629,\n",
       "        -0.1046946 ,  0.51337339]])"
      ]
     },
     "execution_count": 52,
     "metadata": {},
     "output_type": "execute_result"
    }
   ],
   "source": [
    "X_train"
   ]
  },
  {
   "cell_type": "code",
   "execution_count": 53,
   "metadata": {},
   "outputs": [],
   "source": [
    "## # Model Selection and Training:"
   ]
  },
  {
   "cell_type": "code",
   "execution_count": 54,
   "metadata": {},
   "outputs": [
    {
     "name": "stdout",
     "output_type": "stream",
     "text": [
      "Defaulting to user installation because normal site-packages is not writeable\n",
      "Requirement already satisfied: xgboost in c:\\users\\er_luciferr.luc.000\\appdata\\roaming\\python\\python311\\site-packages (1.6.2)\n",
      "Requirement already satisfied: numpy in c:\\programdata\\anaconda3\\lib\\site-packages (from xgboost) (1.24.3)\n",
      "Requirement already satisfied: scipy in c:\\programdata\\anaconda3\\lib\\site-packages (from xgboost) (1.11.1)\n",
      "Note: you may need to restart the kernel to use updated packages.\n"
     ]
    }
   ],
   "source": [
    "%pip install xgboost"
   ]
  },
  {
   "cell_type": "code",
   "execution_count": 55,
   "metadata": {},
   "outputs": [
    {
     "name": "stdout",
     "output_type": "stream",
     "text": [
      "Shape of Train Set: ((99, 465), (99, 1))\n",
      "Shape of Test Set: ((49, 465), (49, 1))\n"
     ]
    }
   ],
   "source": [
    "X_prep = X_train\n",
    "y_prep = y_train\n",
    "X_test_prep = X_test\n",
    "y_test_prep = y_test\n",
    "print(f\"Shape of Train Set: {X_prep.shape , y_prep.shape}\")\n",
    "print(f\"Shape of Test Set: {X_test_prep.shape,y_test_prep.shape}\")"
   ]
  },
  {
   "cell_type": "code",
   "execution_count": 56,
   "metadata": {},
   "outputs": [],
   "source": [
    "from sklearn.svm import SVC\n",
    "from sklearn.ensemble import RandomForestClassifier\n",
    "from xgboost import XGBClassifier\n",
    "from sklearn.model_selection import cross_val_predict , cross_val_score\n",
    "from sklearn.metrics import roc_auc_score\n",
    "\n",
    "#Shortlisted base models\n",
    "svc_clf = SVC(kernel='linear')\n",
    "svc_rbf_clf = SVC(kernel='rbf')\n",
    "random_clf = RandomForestClassifier(random_state=42)\n",
    "xgb_clf = XGBClassifier(objective='binary:logistic')"
   ]
  },
  {
   "cell_type": "code",
   "execution_count": 57,
   "metadata": {},
   "outputs": [],
   "source": [
    "## Function to display scores\n",
    "\n",
    "def display_scores(scores):\n",
    "    print(\"Scores:\",scores)\n",
    "    print(\"Mean:\",scores.mean())\n",
    "    print(\"Standard Deviation:\",scores.std())"
   ]
  },
  {
   "cell_type": "markdown",
   "metadata": {},
   "source": [
    "### # Evaluating `SVC (kernel='linear')` using cross-validation:"
   ]
  },
  {
   "cell_type": "code",
   "execution_count": 58,
   "metadata": {},
   "outputs": [
    {
     "name": "stdout",
     "output_type": "stream",
     "text": [
      "[CV] END .................................................... total time=   0.0s\n",
      "[CV] END .................................................... total time=   0.0s\n",
      "[CV] END .................................................... total time=   0.0s\n",
      "[CV] END .................................................... total time=   0.0s\n",
      "[CV] END .................................................... total time=   0.0s\n",
      "[CV] END .................................................... total time=   0.0s\n",
      "[CV] END .................................................... total time=   0.0s\n",
      "[CV] END .................................................... total time=   0.0s\n",
      "[CV] END .................................................... total time=   0.0s\n",
      "[CV] END .................................................... total time=   0.0s\n"
     ]
    },
    {
     "name": "stderr",
     "output_type": "stream",
     "text": [
      "[Parallel(n_jobs=1)]: Using backend SequentialBackend with 1 concurrent workers.\n",
      "[Parallel(n_jobs=1)]: Done   1 out of   1 | elapsed:    0.0s remaining:    0.0s\n",
      "[Parallel(n_jobs=1)]: Done  10 out of  10 | elapsed:    0.0s finished\n"
     ]
    }
   ],
   "source": [
    "svc_scores = cross_val_score(svc_clf , X_prep , y_prep ,scoring='roc_auc' , cv= 10, verbose=2)"
   ]
  },
  {
   "cell_type": "code",
   "execution_count": 59,
   "metadata": {},
   "outputs": [
    {
     "name": "stdout",
     "output_type": "stream",
     "text": [
      "Scores: [1. 1. 1. 1. 1. 1. 1. 1. 1. 1.]\n",
      "Mean: 1.0\n",
      "Standard Deviation: 0.0\n"
     ]
    }
   ],
   "source": [
    "display_scores(svc_scores)"
   ]
  },
  {
   "cell_type": "code",
   "execution_count": 60,
   "metadata": {},
   "outputs": [
    {
     "data": {
      "text/plain": [
       "0.9375"
      ]
     },
     "execution_count": 60,
     "metadata": {},
     "output_type": "execute_result"
    }
   ],
   "source": [
    "## Performance on test set using cross-validation\n",
    "\n",
    "# Predictions using cross-validation\n",
    "svc_preds = cross_val_predict(svc_clf, X_test_prep, y_test_prep, cv=5)\n",
    "\n",
    "# AUC score\n",
    "svc_auc = roc_auc_score(y_test_prep, svc_preds)\n",
    "svc_auc"
   ]
  },
  {
   "cell_type": "markdown",
   "metadata": {},
   "source": [
    "### # Evaluating `SVC (kernel='rbf')` using cross-validation:"
   ]
  },
  {
   "cell_type": "code",
   "execution_count": 64,
   "metadata": {},
   "outputs": [
    {
     "name": "stdout",
     "output_type": "stream",
     "text": [
      "[CV] END .................................................... total time=   0.0s\n",
      "[CV] END .................................................... total time=   0.0s\n",
      "[CV] END .................................................... total time=   0.0s\n",
      "[CV] END .................................................... total time=   0.0s\n",
      "[CV] END .................................................... total time=   0.0s\n",
      "[CV] END .................................................... total time=   0.0s\n",
      "[CV] END .................................................... total time=   0.0s\n",
      "[CV] END .................................................... total time=   0.0s\n",
      "[CV] END .................................................... total time=   0.0s\n",
      "[CV] END .................................................... total time=   0.0s\n"
     ]
    },
    {
     "name": "stderr",
     "output_type": "stream",
     "text": [
      "[Parallel(n_jobs=1)]: Using backend SequentialBackend with 1 concurrent workers.\n",
      "[Parallel(n_jobs=1)]: Done   1 out of   1 | elapsed:    0.0s remaining:    0.0s\n",
      "[Parallel(n_jobs=1)]: Done  10 out of  10 | elapsed:    0.0s finished\n"
     ]
    }
   ],
   "source": [
    "## SVC rbf Scores\n",
    "\n",
    "svc_rbf_scores = cross_val_score(svc_rbf_clf, X_prep, y_prep, scoring='roc_auc', cv=10, verbose=2)"
   ]
  },
  {
   "cell_type": "code",
   "execution_count": 65,
   "metadata": {},
   "outputs": [
    {
     "name": "stdout",
     "output_type": "stream",
     "text": [
      "Scores: [1.   0.68 1.   1.   1.   1.   0.96 1.   1.   1.  ]\n",
      "Mean: 0.9640000000000001\n",
      "Standard Deviation: 0.09541488353501251\n"
     ]
    }
   ],
   "source": [
    "display_scores(svc_rbf_scores)"
   ]
  },
  {
   "cell_type": "code",
   "execution_count": 66,
   "metadata": {},
   "outputs": [
    {
     "data": {
      "text/plain": [
       "0.6875"
      ]
     },
     "execution_count": 66,
     "metadata": {},
     "output_type": "execute_result"
    }
   ],
   "source": [
    "## Performance on test set using cross-validation\n",
    "\n",
    "# Predictions using cross-validation\n",
    "svc_rbf_preds = cross_val_predict(svc_rbf_clf, X_test_prep, y_test_prep, cv=5)\n",
    "\n",
    "# AUC score\n",
    "svc_rbf_auc = roc_auc_score(y_test_prep, svc_rbf_preds)\n",
    "svc_rbf_auc"
   ]
  },
  {
   "cell_type": "markdown",
   "metadata": {},
   "source": [
    "### # Evaluating `RandomForestClassifier` using cross-validation:"
   ]
  },
  {
   "cell_type": "code",
   "execution_count": 67,
   "metadata": {},
   "outputs": [
    {
     "name": "stderr",
     "output_type": "stream",
     "text": [
      "[Parallel(n_jobs=1)]: Using backend SequentialBackend with 1 concurrent workers.\n"
     ]
    },
    {
     "name": "stdout",
     "output_type": "stream",
     "text": [
      "[CV] END .................................................... total time=   0.2s\n"
     ]
    },
    {
     "name": "stderr",
     "output_type": "stream",
     "text": [
      "[Parallel(n_jobs=1)]: Done   1 out of   1 | elapsed:    0.2s remaining:    0.0s\n"
     ]
    },
    {
     "name": "stdout",
     "output_type": "stream",
     "text": [
      "[CV] END .................................................... total time=   0.1s\n",
      "[CV] END .................................................... total time=   0.2s\n",
      "[CV] END .................................................... total time=   0.1s\n",
      "[CV] END .................................................... total time=   0.1s\n",
      "[CV] END .................................................... total time=   0.2s\n",
      "[CV] END .................................................... total time=   0.2s\n",
      "[CV] END .................................................... total time=   0.2s\n",
      "[CV] END .................................................... total time=   0.2s\n",
      "[CV] END .................................................... total time=   0.2s\n"
     ]
    },
    {
     "name": "stderr",
     "output_type": "stream",
     "text": [
      "[Parallel(n_jobs=1)]: Done  10 out of  10 | elapsed:    2.7s finished\n"
     ]
    }
   ],
   "source": [
    "## Random Forest Scores\n",
    "\n",
    "random_clf_scores = cross_val_score(random_clf, X_prep, y_prep, scoring='roc_auc', cv=10, verbose=2)"
   ]
  },
  {
   "cell_type": "code",
   "execution_count": 68,
   "metadata": {},
   "outputs": [
    {
     "name": "stdout",
     "output_type": "stream",
     "text": [
      "Scores: [1. 1. 1. 1. 1. 1. 1. 1. 1. 1.]\n",
      "Mean: 1.0\n",
      "Standard Deviation: 0.0\n"
     ]
    }
   ],
   "source": [
    "display_scores(random_clf_scores)"
   ]
  },
  {
   "cell_type": "code",
   "execution_count": 69,
   "metadata": {},
   "outputs": [
    {
     "data": {
      "text/plain": [
       "1.0"
      ]
     },
     "execution_count": 69,
     "metadata": {},
     "output_type": "execute_result"
    }
   ],
   "source": [
    "## Performance on test set using cross-validation\n",
    "\n",
    "# Predictions using cross-validation\n",
    "random_clf_preds = cross_val_predict(random_clf, X_test_prep, y_test_prep, cv=5)\n",
    "\n",
    "# AUC score\n",
    "random_clf_auc = roc_auc_score(y_test_prep, random_clf_preds)\n",
    "random_clf_auc"
   ]
  }
 ],
 "metadata": {
  "kernelspec": {
   "display_name": "Python 3 (ipykernel)",
   "language": "python",
   "name": "python3"
  },
  "language_info": {
   "codemirror_mode": {
    "name": "ipython",
    "version": 3
   },
   "file_extension": ".py",
   "mimetype": "text/x-python",
   "name": "python",
   "nbconvert_exporter": "python",
   "pygments_lexer": "ipython3",
   "version": "3.11.5"
  }
 },
 "nbformat": 4,
 "nbformat_minor": 2
}
